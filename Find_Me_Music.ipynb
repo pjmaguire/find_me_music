{
  "nbformat": 4,
  "nbformat_minor": 0,
  "metadata": {
    "colab": {
      "name": "Find_Me_Music.ipynb",
      "provenance": [],
      "toc_visible": true,
      "authorship_tag": "ABX9TyOyC+F9dfZLHuchziGeZ4vL",
      "include_colab_link": true
    },
    "kernelspec": {
      "name": "python3",
      "display_name": "Python 3"
    },
    "language_info": {
      "name": "python"
    }
  },
  "cells": [
    {
      "cell_type": "markdown",
      "metadata": {
        "id": "view-in-github",
        "colab_type": "text"
      },
      "source": [
        "<a href=\"https://colab.research.google.com/github/pjmaguire/find_me_music/blob/main/Find_Me_Music.ipynb\" target=\"_parent\"><img src=\"https://colab.research.google.com/assets/colab-badge.svg\" alt=\"Open In Colab\"/></a>"
      ]
    },
    {
      "cell_type": "markdown",
      "metadata": {
        "id": "6nF-woLUmhpb"
      },
      "source": [
        "# Libraries & Functions"
      ]
    },
    {
      "cell_type": "code",
      "metadata": {
        "id": "I_VRTsjEo8Vf"
      },
      "source": [
        "import pandas as pd\n",
        "import numpy as np\n",
        "import seaborn as sns\n",
        "import matplotlib.pyplot as plt\n",
        "from datetime import datetime\n",
        "import json\n",
        "from ast import literal_eval\n",
        "from sklearn.preprocessing import StandardScaler, LabelEncoder, MinMaxScaler\n",
        "from sklearn.model_selection import train_test_split\n",
        "#from sklearn.linear_model import LogisticRegression\n",
        "#from sklearn.metrics import roc_curve\n",
        "#from sklearn.metrics import roc_auc_score"
      ],
      "execution_count": 77,
      "outputs": []
    },
    {
      "cell_type": "code",
      "metadata": {
        "id": "RcU3VlbypDDg"
      },
      "source": [
        "def data_report(data, figures=True):\n",
        "  \"\"\"\n",
        "  Reports summary statistics and figures for a data frame.\n",
        "\n",
        "  Inputs: data - a dataframe of uniform or mixed variables\n",
        "  Outputs: None\n",
        "  \"\"\"\n",
        "  #Libraries\n",
        "  from pandas.api.types import is_string_dtype\n",
        "  from pandas.api.types import is_numeric_dtype\n",
        "\n",
        "  for col in data.columns:\n",
        "    print(\"{}\\n\".format(col))\n",
        "    #print(type(lc_data[col]))\n",
        "\n",
        "    #Numerical Values\n",
        "    if is_numeric_dtype(data[col]):\n",
        "      print(\"Type:\\tNumeric\")\n",
        "      clean = data[col].dropna()\n",
        "      if len(clean) != 0:\n",
        "        print(\"Range:\\t{} - {}\".format(min(clean), max(clean)))\n",
        "        \n",
        "        if figures:\n",
        "          data[col].plot(kind='hist', title=col.capitalize())\n",
        "          plt.show() \n",
        "\n",
        "    #String Values\n",
        "    elif is_string_dtype(data[col]):\n",
        "      print(\"Type:\\tString\")\n",
        "      print(\"Values:\") \n",
        "      print(data[col].unique())\n",
        "\n",
        "      #Checks For URL Data\n",
        "      #Note: Assumes that any URL means that the variable should not have a figure generated\n",
        "      if not (any(data[col].str.contains(\"http\"))):\n",
        "        if figures:\n",
        "          data[col].value_counts().plot(kind='barh', title=col.capitalize())\n",
        "          plt.show()\n",
        "\n",
        "    #Unknown\n",
        "    else:\n",
        "      print(\"Type:\\tUnknown\")\n",
        "\n",
        "\n",
        "    print(\"NAs:\\t{}\".format(data[col].isna().sum()))\n",
        "\n",
        "    print(\"\\n_____________________\\n\")"
      ],
      "execution_count": null,
      "outputs": []
    },
    {
      "cell_type": "markdown",
      "metadata": {
        "id": "xA0JLHkPpIQ1"
      },
      "source": [
        "# Data Loading"
      ]
    },
    {
      "cell_type": "code",
      "metadata": {
        "id": "ym7tHITRpLMJ"
      },
      "source": [
        "#Loads In Artist And Track Info\n",
        "local = False\n",
        "git = True\n",
        "\n",
        "if local:\n",
        "  artists = pd.read_csv(\"/Users/pmaguire/Dropbox/Stanford/Courses/CS68/Data/Spotify_Data/artists.csv\")\n",
        "  tracks = pd.read_csv(\"/Users/pmaguire/Dropbox/Stanford/Courses/CS68/Data/Spotify_Data/tracks.csv\")\n",
        "elif git:\n",
        "  artists = pd.read_csv(\"https://media.githubusercontent.com/media/pjmaguire/find_me_music/main/Data/artists.csv\")\n",
        "  tracks = pd.read_csv(\"https://media.githubusercontent.com/media/pjmaguire/find_me_music/main/Data/tracks.csv\")\n",
        "\n",
        "#Loads In Related Artist Data\n",
        "#with open(\"/Users/pmaguire/Dropbox/Stanford/Courses/CS68/Data/Spotify_Data/dict_artists.json\") as file:\n",
        "#  data = json.load(file)\n",
        "#  related_artists = pd.DataFrame.from_dict(data, orient='index').T.set_index('index')   "
      ],
      "execution_count": 85,
      "outputs": []
    },
    {
      "cell_type": "markdown",
      "metadata": {
        "id": "uNivmbOemknh"
      },
      "source": [
        "# Variable Summary"
      ]
    },
    {
      "cell_type": "markdown",
      "metadata": {
        "id": "es4FN0JTszCJ"
      },
      "source": [
        "**Artists**"
      ]
    },
    {
      "cell_type": "code",
      "metadata": {
        "colab": {
          "base_uri": "https://localhost:8080/",
          "height": 834
        },
        "id": "aRRPQpSQs-0f",
        "outputId": "c11cbc0a-4185-4d48-c580-a3101f8d4cd5"
      },
      "source": [
        "artists.head(25)"
      ],
      "execution_count": 51,
      "outputs": [
        {
          "output_type": "execute_result",
          "data": {
            "text/html": [
              "<div>\n",
              "<style scoped>\n",
              "    .dataframe tbody tr th:only-of-type {\n",
              "        vertical-align: middle;\n",
              "    }\n",
              "\n",
              "    .dataframe tbody tr th {\n",
              "        vertical-align: top;\n",
              "    }\n",
              "\n",
              "    .dataframe thead th {\n",
              "        text-align: right;\n",
              "    }\n",
              "</style>\n",
              "<table border=\"1\" class=\"dataframe\">\n",
              "  <thead>\n",
              "    <tr style=\"text-align: right;\">\n",
              "      <th></th>\n",
              "      <th>id</th>\n",
              "      <th>followers</th>\n",
              "      <th>genres</th>\n",
              "      <th>name</th>\n",
              "      <th>popularity</th>\n",
              "    </tr>\n",
              "  </thead>\n",
              "  <tbody>\n",
              "    <tr>\n",
              "      <th>0</th>\n",
              "      <td>0DheY5irMjBUeLybbCUEZ2</td>\n",
              "      <td>0.0</td>\n",
              "      <td>[]</td>\n",
              "      <td>Armid &amp; Amir Zare Pashai feat. Sara Rouzbehani</td>\n",
              "      <td>0</td>\n",
              "    </tr>\n",
              "    <tr>\n",
              "      <th>1</th>\n",
              "      <td>0DlhY15l3wsrnlfGio2bjU</td>\n",
              "      <td>5.0</td>\n",
              "      <td>[]</td>\n",
              "      <td>ปูนา ภาวิณี</td>\n",
              "      <td>0</td>\n",
              "    </tr>\n",
              "    <tr>\n",
              "      <th>2</th>\n",
              "      <td>0DmRESX2JknGPQyO15yxg7</td>\n",
              "      <td>0.0</td>\n",
              "      <td>[]</td>\n",
              "      <td>Sadaa</td>\n",
              "      <td>0</td>\n",
              "    </tr>\n",
              "    <tr>\n",
              "      <th>3</th>\n",
              "      <td>0DmhnbHjm1qw6NCYPeZNgJ</td>\n",
              "      <td>0.0</td>\n",
              "      <td>[]</td>\n",
              "      <td>Tra'gruda</td>\n",
              "      <td>0</td>\n",
              "    </tr>\n",
              "    <tr>\n",
              "      <th>4</th>\n",
              "      <td>0Dn11fWM7vHQ3rinvWEl4E</td>\n",
              "      <td>2.0</td>\n",
              "      <td>[]</td>\n",
              "      <td>Ioannis Panoutsopoulos</td>\n",
              "      <td>0</td>\n",
              "    </tr>\n",
              "    <tr>\n",
              "      <th>5</th>\n",
              "      <td>0DotfDlYMGqkbzfBhcA5r6</td>\n",
              "      <td>7.0</td>\n",
              "      <td>[]</td>\n",
              "      <td>Astral Affect</td>\n",
              "      <td>0</td>\n",
              "    </tr>\n",
              "    <tr>\n",
              "      <th>6</th>\n",
              "      <td>0DqP3bOCiC48L8SM9gK4W8</td>\n",
              "      <td>1.0</td>\n",
              "      <td>[]</td>\n",
              "      <td>Yung Seed</td>\n",
              "      <td>0</td>\n",
              "    </tr>\n",
              "    <tr>\n",
              "      <th>7</th>\n",
              "      <td>0Drs3maQb99iRglyTuxizI</td>\n",
              "      <td>0.0</td>\n",
              "      <td>[]</td>\n",
              "      <td>Wi'Ma</td>\n",
              "      <td>0</td>\n",
              "    </tr>\n",
              "    <tr>\n",
              "      <th>8</th>\n",
              "      <td>0DsPeAi1gxPPnYjgpiEGSR</td>\n",
              "      <td>0.0</td>\n",
              "      <td>[]</td>\n",
              "      <td>lentboy</td>\n",
              "      <td>0</td>\n",
              "    </tr>\n",
              "    <tr>\n",
              "      <th>9</th>\n",
              "      <td>0DtvnTxgZ9K5YaPS5jdlQW</td>\n",
              "      <td>20.0</td>\n",
              "      <td>[]</td>\n",
              "      <td>addworks</td>\n",
              "      <td>0</td>\n",
              "    </tr>\n",
              "    <tr>\n",
              "      <th>10</th>\n",
              "      <td>0Du4t8UK1lBD8TnOIa3c17</td>\n",
              "      <td>1.0</td>\n",
              "      <td>[]</td>\n",
              "      <td>Harrbazzter</td>\n",
              "      <td>0</td>\n",
              "    </tr>\n",
              "    <tr>\n",
              "      <th>11</th>\n",
              "      <td>0DuJ5k2ERoAizEdgUzJGTc</td>\n",
              "      <td>0.0</td>\n",
              "      <td>[]</td>\n",
              "      <td>Helena Brunner</td>\n",
              "      <td>0</td>\n",
              "    </tr>\n",
              "    <tr>\n",
              "      <th>12</th>\n",
              "      <td>0DujX6vG6qOz2wVBCQg5Vi</td>\n",
              "      <td>0.0</td>\n",
              "      <td>[]</td>\n",
              "      <td>Deezy McDuffie</td>\n",
              "      <td>0</td>\n",
              "    </tr>\n",
              "    <tr>\n",
              "      <th>13</th>\n",
              "      <td>0DvBSYDq5ikdlKgp94Yamq</td>\n",
              "      <td>1.0</td>\n",
              "      <td>[]</td>\n",
              "      <td>Riyaz Azaimar</td>\n",
              "      <td>0</td>\n",
              "    </tr>\n",
              "    <tr>\n",
              "      <th>14</th>\n",
              "      <td>0DvvojCMIqsOT1Btiwvq1h</td>\n",
              "      <td>422.0</td>\n",
              "      <td>[]</td>\n",
              "      <td>Sidonie Radio</td>\n",
              "      <td>0</td>\n",
              "    </tr>\n",
              "    <tr>\n",
              "      <th>15</th>\n",
              "      <td>0DxcE03jyjg3wQVHUQKx8C</td>\n",
              "      <td>0.0</td>\n",
              "      <td>[]</td>\n",
              "      <td>Le Chamête</td>\n",
              "      <td>0</td>\n",
              "    </tr>\n",
              "    <tr>\n",
              "      <th>16</th>\n",
              "      <td>0DxsGcq4ILa7Ss2CmZfipk</td>\n",
              "      <td>0.0</td>\n",
              "      <td>[]</td>\n",
              "      <td>Lipin. P</td>\n",
              "      <td>0</td>\n",
              "    </tr>\n",
              "    <tr>\n",
              "      <th>17</th>\n",
              "      <td>0DzKNJPHYPMaLDxDVEuznX</td>\n",
              "      <td>4.0</td>\n",
              "      <td>[]</td>\n",
              "      <td>Breakingnews</td>\n",
              "      <td>0</td>\n",
              "    </tr>\n",
              "    <tr>\n",
              "      <th>18</th>\n",
              "      <td>0DzfuBZVzDryD5ZqKla8EW</td>\n",
              "      <td>0.0</td>\n",
              "      <td>[]</td>\n",
              "      <td>TINY x dr.KONG</td>\n",
              "      <td>0</td>\n",
              "    </tr>\n",
              "    <tr>\n",
              "      <th>19</th>\n",
              "      <td>0DzvgthIK2nmlAPE0A2Uvo</td>\n",
              "      <td>0.0</td>\n",
              "      <td>[]</td>\n",
              "      <td>Stan P</td>\n",
              "      <td>0</td>\n",
              "    </tr>\n",
              "    <tr>\n",
              "      <th>20</th>\n",
              "      <td>0E01IqK2Q0vhDHOrQHRoHv</td>\n",
              "      <td>0.0</td>\n",
              "      <td>[]</td>\n",
              "      <td>Smockda</td>\n",
              "      <td>0</td>\n",
              "    </tr>\n",
              "    <tr>\n",
              "      <th>21</th>\n",
              "      <td>0E0SpAZoIxSSvBefCBLfUB</td>\n",
              "      <td>3.0</td>\n",
              "      <td>[]</td>\n",
              "      <td>El Bago</td>\n",
              "      <td>0</td>\n",
              "    </tr>\n",
              "    <tr>\n",
              "      <th>22</th>\n",
              "      <td>0E0afUR6aObnzDTMvjMEuC</td>\n",
              "      <td>3.0</td>\n",
              "      <td>[]</td>\n",
              "      <td>Kazuki Komatsu</td>\n",
              "      <td>0</td>\n",
              "    </tr>\n",
              "    <tr>\n",
              "      <th>23</th>\n",
              "      <td>0E0eEzoo3nfBf5efmw6S1Q</td>\n",
              "      <td>0.0</td>\n",
              "      <td>[]</td>\n",
              "      <td>Omar Ferreyra</td>\n",
              "      <td>0</td>\n",
              "    </tr>\n",
              "    <tr>\n",
              "      <th>24</th>\n",
              "      <td>0E0n2GRFDjxWw3NiIAG8O3</td>\n",
              "      <td>66.0</td>\n",
              "      <td>[]</td>\n",
              "      <td>Los Argon</td>\n",
              "      <td>0</td>\n",
              "    </tr>\n",
              "  </tbody>\n",
              "</table>\n",
              "</div>"
            ],
            "text/plain": [
              "                        id  ...  popularity\n",
              "0   0DheY5irMjBUeLybbCUEZ2  ...           0\n",
              "1   0DlhY15l3wsrnlfGio2bjU  ...           0\n",
              "2   0DmRESX2JknGPQyO15yxg7  ...           0\n",
              "3   0DmhnbHjm1qw6NCYPeZNgJ  ...           0\n",
              "4   0Dn11fWM7vHQ3rinvWEl4E  ...           0\n",
              "5   0DotfDlYMGqkbzfBhcA5r6  ...           0\n",
              "6   0DqP3bOCiC48L8SM9gK4W8  ...           0\n",
              "7   0Drs3maQb99iRglyTuxizI  ...           0\n",
              "8   0DsPeAi1gxPPnYjgpiEGSR  ...           0\n",
              "9   0DtvnTxgZ9K5YaPS5jdlQW  ...           0\n",
              "10  0Du4t8UK1lBD8TnOIa3c17  ...           0\n",
              "11  0DuJ5k2ERoAizEdgUzJGTc  ...           0\n",
              "12  0DujX6vG6qOz2wVBCQg5Vi  ...           0\n",
              "13  0DvBSYDq5ikdlKgp94Yamq  ...           0\n",
              "14  0DvvojCMIqsOT1Btiwvq1h  ...           0\n",
              "15  0DxcE03jyjg3wQVHUQKx8C  ...           0\n",
              "16  0DxsGcq4ILa7Ss2CmZfipk  ...           0\n",
              "17  0DzKNJPHYPMaLDxDVEuznX  ...           0\n",
              "18  0DzfuBZVzDryD5ZqKla8EW  ...           0\n",
              "19  0DzvgthIK2nmlAPE0A2Uvo  ...           0\n",
              "20  0E01IqK2Q0vhDHOrQHRoHv  ...           0\n",
              "21  0E0SpAZoIxSSvBefCBLfUB  ...           0\n",
              "22  0E0afUR6aObnzDTMvjMEuC  ...           0\n",
              "23  0E0eEzoo3nfBf5efmw6S1Q  ...           0\n",
              "24  0E0n2GRFDjxWw3NiIAG8O3  ...           0\n",
              "\n",
              "[25 rows x 5 columns]"
            ]
          },
          "metadata": {
            "tags": []
          },
          "execution_count": 51
        }
      ]
    },
    {
      "cell_type": "code",
      "metadata": {
        "colab": {
          "base_uri": "https://localhost:8080/",
          "height": 621
        },
        "id": "fwiSlwQjIq49",
        "outputId": "fd2dbe96-5732-437a-da4f-13891061dcc6"
      },
      "source": [
        "artists.hist(figsize=(20, 10))\n",
        "plt.show()"
      ],
      "execution_count": 52,
      "outputs": [
        {
          "output_type": "display_data",
          "data": {
            "image/png": "[encoded data removed]",
            "text/plain": [
              "<Figure size 1440x720 with 2 Axes>"
            ]
          },
          "metadata": {
            "tags": [],
            "needs_background": "light"
          }
        }
      ]
    },
    {
      "cell_type": "code",
      "metadata": {
        "colab": {
          "base_uri": "https://localhost:8080/"
        },
        "id": "yVnI68Vh0Cqb",
        "outputId": "708f7273-cc63-4e7c-b4c1-3b561b1a995a"
      },
      "source": [
        "data_report(artists, figures=False)"
      ],
      "execution_count": 53,
      "outputs": [
        {
          "output_type": "stream",
          "text": [
            "id\n",
            "\n",
            "Type:\tString\n",
            "Values:\n",
            "['0DheY5irMjBUeLybbCUEZ2' '0DlhY15l3wsrnlfGio2bjU'\n",
            " '0DmRESX2JknGPQyO15yxg7' ... '2vnT9YhKIvjVo9LnVjWmr2'\n",
            " '3ID0E5XCvnJIYZEq043ZoB' '5m0Y4WSYyai2BU752lCASy']\n",
            "NAs:\t0\n",
            "\n",
            "_____________________\n",
            "\n",
            "followers\n",
            "\n",
            "Type:\tNumeric\n",
            "Range:\t0.0 - 78900234.0\n",
            "NAs:\t13\n",
            "\n",
            "_____________________\n",
            "\n",
            "genres\n",
            "\n",
            "Type:\tString\n",
            "Values:\n",
            "['[]' \"['carnaval cadiz']\" \"['classical harp', 'harp']\" ...\n",
            " \"['alternative dance', 'dance-punk', 'electrofox', 'new rave', 'swedish electropop']\"\n",
            " \"['emoviolence', 'metallic hardcore']\"\n",
            " \"['australian post-hardcore', 'metallic hardcore']\"]\n",
            "NAs:\t0\n",
            "\n",
            "_____________________\n",
            "\n",
            "name\n",
            "\n",
            "Type:\tString\n",
            "Values:\n",
            "['Armid & Amir Zare Pashai feat. Sara Rouzbehani' 'ปูนา ภาวิณี' 'Sadaa'\n",
            " ... 'Jesse Giddings' 'The Boy Band Project' '10 Reasons']\n",
            "NAs:\t0\n",
            "\n",
            "_____________________\n",
            "\n",
            "popularity\n",
            "\n",
            "Type:\tNumeric\n",
            "Range:\t0 - 100\n",
            "NAs:\t0\n",
            "\n",
            "_____________________\n",
            "\n"
          ],
          "name": "stdout"
        }
      ]
    },
    {
      "cell_type": "markdown",
      "metadata": {
        "id": "mQWHgg2as3iE"
      },
      "source": [
        "**Tracks**"
      ]
    },
    {
      "cell_type": "code",
      "metadata": {
        "colab": {
          "base_uri": "https://localhost:8080/",
          "height": 1000
        },
        "id": "H5gl4GVGtFVQ",
        "outputId": "0d8e2b23-aec9-4c70-af84-54f15ff287ca"
      },
      "source": [
        "tracks.head(25)"
      ],
      "execution_count": 54,
      "outputs": [
        {
          "output_type": "execute_result",
          "data": {
            "text/html": [
              "<div>\n",
              "<style scoped>\n",
              "    .dataframe tbody tr th:only-of-type {\n",
              "        vertical-align: middle;\n",
              "    }\n",
              "\n",
              "    .dataframe tbody tr th {\n",
              "        vertical-align: top;\n",
              "    }\n",
              "\n",
              "    .dataframe thead th {\n",
              "        text-align: right;\n",
              "    }\n",
              "</style>\n",
              "<table border=\"1\" class=\"dataframe\">\n",
              "  <thead>\n",
              "    <tr style=\"text-align: right;\">\n",
              "      <th></th>\n",
              "      <th>id</th>\n",
              "      <th>name</th>\n",
              "      <th>popularity</th>\n",
              "      <th>duration_ms</th>\n",
              "      <th>explicit</th>\n",
              "      <th>artists</th>\n",
              "      <th>id_artists</th>\n",
              "      <th>release_date</th>\n",
              "      <th>danceability</th>\n",
              "      <th>energy</th>\n",
              "      <th>key</th>\n",
              "      <th>loudness</th>\n",
              "      <th>mode</th>\n",
              "      <th>speechiness</th>\n",
              "      <th>acousticness</th>\n",
              "      <th>instrumentalness</th>\n",
              "      <th>liveness</th>\n",
              "      <th>valence</th>\n",
              "      <th>tempo</th>\n",
              "      <th>time_signature</th>\n",
              "    </tr>\n",
              "  </thead>\n",
              "  <tbody>\n",
              "    <tr>\n",
              "      <th>0</th>\n",
              "      <td>35iwgR4jXetI318WEWsa1Q</td>\n",
              "      <td>Carve</td>\n",
              "      <td>6</td>\n",
              "      <td>126903</td>\n",
              "      <td>0</td>\n",
              "      <td>['Uli']</td>\n",
              "      <td>['45tIt06XoI0Iio4LBEVpls']</td>\n",
              "      <td>1922-02-22</td>\n",
              "      <td>0.645</td>\n",
              "      <td>0.4450</td>\n",
              "      <td>0</td>\n",
              "      <td>-13.338</td>\n",
              "      <td>1</td>\n",
              "      <td>0.4510</td>\n",
              "      <td>0.674</td>\n",
              "      <td>0.744000</td>\n",
              "      <td>0.1510</td>\n",
              "      <td>0.1270</td>\n",
              "      <td>104.851</td>\n",
              "      <td>3</td>\n",
              "    </tr>\n",
              "    <tr>\n",
              "      <th>1</th>\n",
              "      <td>021ht4sdgPcrDgSk7JTbKY</td>\n",
              "      <td>Capítulo 2.16 - Banquero Anarquista</td>\n",
              "      <td>0</td>\n",
              "      <td>98200</td>\n",
              "      <td>0</td>\n",
              "      <td>['Fernando Pessoa']</td>\n",
              "      <td>['14jtPCOoNZwquk5wd9DxrY']</td>\n",
              "      <td>1922-06-01</td>\n",
              "      <td>0.695</td>\n",
              "      <td>0.2630</td>\n",
              "      <td>0</td>\n",
              "      <td>-22.136</td>\n",
              "      <td>1</td>\n",
              "      <td>0.9570</td>\n",
              "      <td>0.797</td>\n",
              "      <td>0.000000</td>\n",
              "      <td>0.1480</td>\n",
              "      <td>0.6550</td>\n",
              "      <td>102.009</td>\n",
              "      <td>1</td>\n",
              "    </tr>\n",
              "    <tr>\n",
              "      <th>2</th>\n",
              "      <td>07A5yehtSnoedViJAZkNnc</td>\n",
              "      <td>Vivo para Quererte - Remasterizado</td>\n",
              "      <td>0</td>\n",
              "      <td>181640</td>\n",
              "      <td>0</td>\n",
              "      <td>['Ignacio Corsini']</td>\n",
              "      <td>['5LiOoJbxVSAMkBS2fUm3X2']</td>\n",
              "      <td>1922-03-21</td>\n",
              "      <td>0.434</td>\n",
              "      <td>0.1770</td>\n",
              "      <td>1</td>\n",
              "      <td>-21.180</td>\n",
              "      <td>1</td>\n",
              "      <td>0.0512</td>\n",
              "      <td>0.994</td>\n",
              "      <td>0.021800</td>\n",
              "      <td>0.2120</td>\n",
              "      <td>0.4570</td>\n",
              "      <td>130.418</td>\n",
              "      <td>5</td>\n",
              "    </tr>\n",
              "    <tr>\n",
              "      <th>3</th>\n",
              "      <td>08FmqUhxtyLTn6pAh6bk45</td>\n",
              "      <td>El Prisionero - Remasterizado</td>\n",
              "      <td>0</td>\n",
              "      <td>176907</td>\n",
              "      <td>0</td>\n",
              "      <td>['Ignacio Corsini']</td>\n",
              "      <td>['5LiOoJbxVSAMkBS2fUm3X2']</td>\n",
              "      <td>1922-03-21</td>\n",
              "      <td>0.321</td>\n",
              "      <td>0.0946</td>\n",
              "      <td>7</td>\n",
              "      <td>-27.961</td>\n",
              "      <td>1</td>\n",
              "      <td>0.0504</td>\n",
              "      <td>0.995</td>\n",
              "      <td>0.918000</td>\n",
              "      <td>0.1040</td>\n",
              "      <td>0.3970</td>\n",
              "      <td>169.980</td>\n",
              "      <td>3</td>\n",
              "    </tr>\n",
              "    <tr>\n",
              "      <th>4</th>\n",
              "      <td>08y9GfoqCWfOGsKdwojr5e</td>\n",
              "      <td>Lady of the Evening</td>\n",
              "      <td>0</td>\n",
              "      <td>163080</td>\n",
              "      <td>0</td>\n",
              "      <td>['Dick Haymes']</td>\n",
              "      <td>['3BiJGZsyX9sJchTqcSA7Su']</td>\n",
              "      <td>1922</td>\n",
              "      <td>0.402</td>\n",
              "      <td>0.1580</td>\n",
              "      <td>3</td>\n",
              "      <td>-16.900</td>\n",
              "      <td>0</td>\n",
              "      <td>0.0390</td>\n",
              "      <td>0.989</td>\n",
              "      <td>0.130000</td>\n",
              "      <td>0.3110</td>\n",
              "      <td>0.1960</td>\n",
              "      <td>103.220</td>\n",
              "      <td>4</td>\n",
              "    </tr>\n",
              "    <tr>\n",
              "      <th>5</th>\n",
              "      <td>0BRXJHRNGQ3W4v9frnSfhu</td>\n",
              "      <td>Ave Maria</td>\n",
              "      <td>0</td>\n",
              "      <td>178933</td>\n",
              "      <td>0</td>\n",
              "      <td>['Dick Haymes']</td>\n",
              "      <td>['3BiJGZsyX9sJchTqcSA7Su']</td>\n",
              "      <td>1922</td>\n",
              "      <td>0.227</td>\n",
              "      <td>0.2610</td>\n",
              "      <td>5</td>\n",
              "      <td>-12.343</td>\n",
              "      <td>1</td>\n",
              "      <td>0.0382</td>\n",
              "      <td>0.994</td>\n",
              "      <td>0.247000</td>\n",
              "      <td>0.0977</td>\n",
              "      <td>0.0539</td>\n",
              "      <td>118.891</td>\n",
              "      <td>4</td>\n",
              "    </tr>\n",
              "    <tr>\n",
              "      <th>6</th>\n",
              "      <td>0Dd9ImXtAtGwsmsAD69KZT</td>\n",
              "      <td>La Butte Rouge</td>\n",
              "      <td>0</td>\n",
              "      <td>134467</td>\n",
              "      <td>0</td>\n",
              "      <td>['Francis Marty']</td>\n",
              "      <td>['2nuMRGzeJ5jJEKlfS7rZ0W']</td>\n",
              "      <td>1922</td>\n",
              "      <td>0.510</td>\n",
              "      <td>0.3550</td>\n",
              "      <td>4</td>\n",
              "      <td>-12.833</td>\n",
              "      <td>1</td>\n",
              "      <td>0.1240</td>\n",
              "      <td>0.965</td>\n",
              "      <td>0.000000</td>\n",
              "      <td>0.1550</td>\n",
              "      <td>0.7270</td>\n",
              "      <td>85.754</td>\n",
              "      <td>5</td>\n",
              "    </tr>\n",
              "    <tr>\n",
              "      <th>7</th>\n",
              "      <td>0IA0Hju8CAgYfV1hwhidBH</td>\n",
              "      <td>La Java</td>\n",
              "      <td>0</td>\n",
              "      <td>161427</td>\n",
              "      <td>0</td>\n",
              "      <td>['Mistinguett']</td>\n",
              "      <td>['4AxgXfD7ISvJSTObqm4aIE']</td>\n",
              "      <td>1922</td>\n",
              "      <td>0.563</td>\n",
              "      <td>0.1840</td>\n",
              "      <td>4</td>\n",
              "      <td>-13.757</td>\n",
              "      <td>1</td>\n",
              "      <td>0.0512</td>\n",
              "      <td>0.993</td>\n",
              "      <td>0.000016</td>\n",
              "      <td>0.3250</td>\n",
              "      <td>0.6540</td>\n",
              "      <td>133.088</td>\n",
              "      <td>3</td>\n",
              "    </tr>\n",
              "    <tr>\n",
              "      <th>8</th>\n",
              "      <td>0IgI1UCz84pYeVetnl1lGP</td>\n",
              "      <td>Old Fashioned Girl</td>\n",
              "      <td>0</td>\n",
              "      <td>310073</td>\n",
              "      <td>0</td>\n",
              "      <td>['Greg Fieler']</td>\n",
              "      <td>['5nWlsH5RDgFuRAiDeOFVmf']</td>\n",
              "      <td>1922</td>\n",
              "      <td>0.488</td>\n",
              "      <td>0.4750</td>\n",
              "      <td>0</td>\n",
              "      <td>-16.222</td>\n",
              "      <td>0</td>\n",
              "      <td>0.0399</td>\n",
              "      <td>0.620</td>\n",
              "      <td>0.006450</td>\n",
              "      <td>0.1070</td>\n",
              "      <td>0.5440</td>\n",
              "      <td>139.952</td>\n",
              "      <td>4</td>\n",
              "    </tr>\n",
              "    <tr>\n",
              "      <th>9</th>\n",
              "      <td>0JV4iqw2lSKJaHBQZ0e5zK</td>\n",
              "      <td>Martín Fierro - Remasterizado</td>\n",
              "      <td>0</td>\n",
              "      <td>181173</td>\n",
              "      <td>0</td>\n",
              "      <td>['Ignacio Corsini']</td>\n",
              "      <td>['5LiOoJbxVSAMkBS2fUm3X2']</td>\n",
              "      <td>1922-03-29</td>\n",
              "      <td>0.548</td>\n",
              "      <td>0.0391</td>\n",
              "      <td>6</td>\n",
              "      <td>-23.228</td>\n",
              "      <td>1</td>\n",
              "      <td>0.1530</td>\n",
              "      <td>0.996</td>\n",
              "      <td>0.933000</td>\n",
              "      <td>0.1480</td>\n",
              "      <td>0.6120</td>\n",
              "      <td>75.595</td>\n",
              "      <td>3</td>\n",
              "    </tr>\n",
              "    <tr>\n",
              "      <th>10</th>\n",
              "      <td>0OYGe21oScKJfanLyM7daU</td>\n",
              "      <td>Capítulo 2.8 - Banquero Anarquista</td>\n",
              "      <td>0</td>\n",
              "      <td>99100</td>\n",
              "      <td>0</td>\n",
              "      <td>['Fernando Pessoa']</td>\n",
              "      <td>['14jtPCOoNZwquk5wd9DxrY']</td>\n",
              "      <td>1922-06-01</td>\n",
              "      <td>0.676</td>\n",
              "      <td>0.2350</td>\n",
              "      <td>11</td>\n",
              "      <td>-22.447</td>\n",
              "      <td>0</td>\n",
              "      <td>0.9600</td>\n",
              "      <td>0.794</td>\n",
              "      <td>0.000000</td>\n",
              "      <td>0.2100</td>\n",
              "      <td>0.7240</td>\n",
              "      <td>96.777</td>\n",
              "      <td>3</td>\n",
              "    </tr>\n",
              "    <tr>\n",
              "      <th>11</th>\n",
              "      <td>0PE42H6tslQuyMMiGRiqtb</td>\n",
              "      <td>Capítulo 2.25 - Banquero Anarquista</td>\n",
              "      <td>0</td>\n",
              "      <td>132700</td>\n",
              "      <td>0</td>\n",
              "      <td>['Fernando Pessoa']</td>\n",
              "      <td>['14jtPCOoNZwquk5wd9DxrY']</td>\n",
              "      <td>1922-06-01</td>\n",
              "      <td>0.750</td>\n",
              "      <td>0.2290</td>\n",
              "      <td>2</td>\n",
              "      <td>-22.077</td>\n",
              "      <td>1</td>\n",
              "      <td>0.9550</td>\n",
              "      <td>0.578</td>\n",
              "      <td>0.000000</td>\n",
              "      <td>0.3140</td>\n",
              "      <td>0.5310</td>\n",
              "      <td>102.629</td>\n",
              "      <td>3</td>\n",
              "    </tr>\n",
              "    <tr>\n",
              "      <th>12</th>\n",
              "      <td>0PH9AACae1f957JAavhOl2</td>\n",
              "      <td>Lazy Boi</td>\n",
              "      <td>0</td>\n",
              "      <td>157333</td>\n",
              "      <td>0</td>\n",
              "      <td>['Uli']</td>\n",
              "      <td>['45tIt06XoI0Iio4LBEVpls']</td>\n",
              "      <td>1922-02-22</td>\n",
              "      <td>0.298</td>\n",
              "      <td>0.4600</td>\n",
              "      <td>1</td>\n",
              "      <td>-18.645</td>\n",
              "      <td>1</td>\n",
              "      <td>0.4530</td>\n",
              "      <td>0.521</td>\n",
              "      <td>0.856000</td>\n",
              "      <td>0.4360</td>\n",
              "      <td>0.4020</td>\n",
              "      <td>87.921</td>\n",
              "      <td>4</td>\n",
              "    </tr>\n",
              "    <tr>\n",
              "      <th>13</th>\n",
              "      <td>0QiT0Oo5QdLXdFw6RDOj7h</td>\n",
              "      <td>Tu Verras Montmartre</td>\n",
              "      <td>1</td>\n",
              "      <td>186800</td>\n",
              "      <td>0</td>\n",
              "      <td>['Lucien Boyer']</td>\n",
              "      <td>['4mSouLpNSEY1d7OdIjlFiP']</td>\n",
              "      <td>1922</td>\n",
              "      <td>0.703</td>\n",
              "      <td>0.2800</td>\n",
              "      <td>0</td>\n",
              "      <td>-15.390</td>\n",
              "      <td>1</td>\n",
              "      <td>0.1740</td>\n",
              "      <td>0.995</td>\n",
              "      <td>0.000068</td>\n",
              "      <td>0.1630</td>\n",
              "      <td>0.8970</td>\n",
              "      <td>127.531</td>\n",
              "      <td>4</td>\n",
              "    </tr>\n",
              "    <tr>\n",
              "      <th>14</th>\n",
              "      <td>0TWsNj5iSvbMTtbEDP7A4V</td>\n",
              "      <td>Elle Prend L'boulevard Magenta</td>\n",
              "      <td>0</td>\n",
              "      <td>172027</td>\n",
              "      <td>0</td>\n",
              "      <td>['Félix Mayol']</td>\n",
              "      <td>['7DIlOK9L8d0IQ7Xk8aJxDW']</td>\n",
              "      <td>1922</td>\n",
              "      <td>0.709</td>\n",
              "      <td>0.2890</td>\n",
              "      <td>2</td>\n",
              "      <td>-14.978</td>\n",
              "      <td>1</td>\n",
              "      <td>0.1800</td>\n",
              "      <td>0.967</td>\n",
              "      <td>0.000000</td>\n",
              "      <td>0.1190</td>\n",
              "      <td>0.8400</td>\n",
              "      <td>107.515</td>\n",
              "      <td>4</td>\n",
              "    </tr>\n",
              "    <tr>\n",
              "      <th>15</th>\n",
              "      <td>0cC9CYjLRIzwchQ42xVnq6</td>\n",
              "      <td>Capítulo 1.23 - Banquero Anarquista</td>\n",
              "      <td>0</td>\n",
              "      <td>96600</td>\n",
              "      <td>0</td>\n",
              "      <td>['Fernando Pessoa']</td>\n",
              "      <td>['14jtPCOoNZwquk5wd9DxrY']</td>\n",
              "      <td>1922-06-01</td>\n",
              "      <td>0.687</td>\n",
              "      <td>0.1980</td>\n",
              "      <td>4</td>\n",
              "      <td>-24.264</td>\n",
              "      <td>0</td>\n",
              "      <td>0.9620</td>\n",
              "      <td>0.754</td>\n",
              "      <td>0.000000</td>\n",
              "      <td>0.1970</td>\n",
              "      <td>0.4780</td>\n",
              "      <td>78.453</td>\n",
              "      <td>1</td>\n",
              "    </tr>\n",
              "    <tr>\n",
              "      <th>16</th>\n",
              "      <td>0eb1PfHxT6HnXvvdUOzmME</td>\n",
              "      <td>Capítulo 1.18 - Banquero Anarquista</td>\n",
              "      <td>0</td>\n",
              "      <td>103200</td>\n",
              "      <td>0</td>\n",
              "      <td>['Fernando Pessoa']</td>\n",
              "      <td>['14jtPCOoNZwquk5wd9DxrY']</td>\n",
              "      <td>1922-06-01</td>\n",
              "      <td>0.800</td>\n",
              "      <td>0.1710</td>\n",
              "      <td>8</td>\n",
              "      <td>-24.384</td>\n",
              "      <td>1</td>\n",
              "      <td>0.9530</td>\n",
              "      <td>0.670</td>\n",
              "      <td>0.000000</td>\n",
              "      <td>0.1230</td>\n",
              "      <td>0.6930</td>\n",
              "      <td>59.613</td>\n",
              "      <td>3</td>\n",
              "    </tr>\n",
              "    <tr>\n",
              "      <th>17</th>\n",
              "      <td>0grXU6GKVNCVMJbseA0Uhe</td>\n",
              "      <td>Capítulo 1.10 - Banquero Anarquista</td>\n",
              "      <td>0</td>\n",
              "      <td>95800</td>\n",
              "      <td>0</td>\n",
              "      <td>['Fernando Pessoa']</td>\n",
              "      <td>['14jtPCOoNZwquk5wd9DxrY']</td>\n",
              "      <td>1922-06-01</td>\n",
              "      <td>0.700</td>\n",
              "      <td>0.2080</td>\n",
              "      <td>2</td>\n",
              "      <td>-23.874</td>\n",
              "      <td>1</td>\n",
              "      <td>0.9560</td>\n",
              "      <td>0.691</td>\n",
              "      <td>0.000000</td>\n",
              "      <td>0.4410</td>\n",
              "      <td>0.6130</td>\n",
              "      <td>85.739</td>\n",
              "      <td>1</td>\n",
              "    </tr>\n",
              "    <tr>\n",
              "      <th>18</th>\n",
              "      <td>0kCB1bDVBC8gWCFcnJyIZc</td>\n",
              "      <td>Ca C'est Une Chose</td>\n",
              "      <td>0</td>\n",
              "      <td>188000</td>\n",
              "      <td>0</td>\n",
              "      <td>['Victor Boucher']</td>\n",
              "      <td>['7vVR02JJYvsEAEPNHQMx0Q']</td>\n",
              "      <td>1922</td>\n",
              "      <td>0.352</td>\n",
              "      <td>0.3340</td>\n",
              "      <td>5</td>\n",
              "      <td>-13.038</td>\n",
              "      <td>1</td>\n",
              "      <td>0.0594</td>\n",
              "      <td>0.996</td>\n",
              "      <td>0.007460</td>\n",
              "      <td>0.3600</td>\n",
              "      <td>0.4140</td>\n",
              "      <td>76.403</td>\n",
              "      <td>4</td>\n",
              "    </tr>\n",
              "    <tr>\n",
              "      <th>19</th>\n",
              "      <td>0l3BQsVJ7F76wlN5QhJzaP</td>\n",
              "      <td>El Vendaval - Remasterizado</td>\n",
              "      <td>0</td>\n",
              "      <td>153533</td>\n",
              "      <td>0</td>\n",
              "      <td>['Ignacio Corsini']</td>\n",
              "      <td>['5LiOoJbxVSAMkBS2fUm3X2']</td>\n",
              "      <td>1922-03-21</td>\n",
              "      <td>0.370</td>\n",
              "      <td>0.3720</td>\n",
              "      <td>2</td>\n",
              "      <td>-17.138</td>\n",
              "      <td>1</td>\n",
              "      <td>0.0865</td>\n",
              "      <td>0.985</td>\n",
              "      <td>0.000681</td>\n",
              "      <td>0.9290</td>\n",
              "      <td>0.7530</td>\n",
              "      <td>159.669</td>\n",
              "      <td>4</td>\n",
              "    </tr>\n",
              "    <tr>\n",
              "      <th>20</th>\n",
              "      <td>0pXUGQcBxfoQXg2e7G9Wwk</td>\n",
              "      <td>Ta Bouche</td>\n",
              "      <td>0</td>\n",
              "      <td>180933</td>\n",
              "      <td>0</td>\n",
              "      <td>['Jeanne Saint Bonnet']</td>\n",
              "      <td>['4ZACxcKyd37u9WSxCAvLP2']</td>\n",
              "      <td>1922</td>\n",
              "      <td>0.335</td>\n",
              "      <td>0.3040</td>\n",
              "      <td>7</td>\n",
              "      <td>-14.062</td>\n",
              "      <td>1</td>\n",
              "      <td>0.0506</td>\n",
              "      <td>0.996</td>\n",
              "      <td>0.083200</td>\n",
              "      <td>0.1020</td>\n",
              "      <td>0.2150</td>\n",
              "      <td>76.576</td>\n",
              "      <td>3</td>\n",
              "    </tr>\n",
              "    <tr>\n",
              "      <th>21</th>\n",
              "      <td>0wA4YFw7ZNnpasfjVgJxpv</td>\n",
              "      <td>Capítulo 1.22 - Banquero Anarquista</td>\n",
              "      <td>0</td>\n",
              "      <td>109100</td>\n",
              "      <td>0</td>\n",
              "      <td>['Fernando Pessoa']</td>\n",
              "      <td>['14jtPCOoNZwquk5wd9DxrY']</td>\n",
              "      <td>1922-06-01</td>\n",
              "      <td>0.704</td>\n",
              "      <td>0.2440</td>\n",
              "      <td>0</td>\n",
              "      <td>-25.353</td>\n",
              "      <td>1</td>\n",
              "      <td>0.9590</td>\n",
              "      <td>0.728</td>\n",
              "      <td>0.000000</td>\n",
              "      <td>0.1680</td>\n",
              "      <td>0.6440</td>\n",
              "      <td>84.489</td>\n",
              "      <td>3</td>\n",
              "    </tr>\n",
              "    <tr>\n",
              "      <th>22</th>\n",
              "      <td>0xJCJ9XSNcdTIz0QKmhtEn</td>\n",
              "      <td>La Maleva - Remasterizado</td>\n",
              "      <td>0</td>\n",
              "      <td>181440</td>\n",
              "      <td>0</td>\n",
              "      <td>['Ignacio Corsini']</td>\n",
              "      <td>['5LiOoJbxVSAMkBS2fUm3X2']</td>\n",
              "      <td>1922-03-29</td>\n",
              "      <td>0.339</td>\n",
              "      <td>0.0958</td>\n",
              "      <td>8</td>\n",
              "      <td>-26.944</td>\n",
              "      <td>1</td>\n",
              "      <td>0.0530</td>\n",
              "      <td>0.994</td>\n",
              "      <td>0.969000</td>\n",
              "      <td>0.1230</td>\n",
              "      <td>0.2190</td>\n",
              "      <td>86.279</td>\n",
              "      <td>3</td>\n",
              "    </tr>\n",
              "    <tr>\n",
              "      <th>23</th>\n",
              "      <td>0zyKYuXwmo8eR3BBxoxVEO</td>\n",
              "      <td>Capítulo 2.3 - Banquero Anarquista</td>\n",
              "      <td>0</td>\n",
              "      <td>113200</td>\n",
              "      <td>0</td>\n",
              "      <td>['Fernando Pessoa']</td>\n",
              "      <td>['14jtPCOoNZwquk5wd9DxrY']</td>\n",
              "      <td>1922-06-01</td>\n",
              "      <td>0.655</td>\n",
              "      <td>0.2140</td>\n",
              "      <td>0</td>\n",
              "      <td>-23.337</td>\n",
              "      <td>1</td>\n",
              "      <td>0.9620</td>\n",
              "      <td>0.665</td>\n",
              "      <td>0.000000</td>\n",
              "      <td>0.2790</td>\n",
              "      <td>0.7610</td>\n",
              "      <td>76.087</td>\n",
              "      <td>1</td>\n",
              "    </tr>\n",
              "    <tr>\n",
              "      <th>24</th>\n",
              "      <td>10XXG7gG75jIREUaModzOY</td>\n",
              "      <td>Capítulo 1.2 - Banquero Anarquista</td>\n",
              "      <td>0</td>\n",
              "      <td>109500</td>\n",
              "      <td>0</td>\n",
              "      <td>['Fernando Pessoa']</td>\n",
              "      <td>['14jtPCOoNZwquk5wd9DxrY']</td>\n",
              "      <td>1922-06-01</td>\n",
              "      <td>0.673</td>\n",
              "      <td>0.2390</td>\n",
              "      <td>5</td>\n",
              "      <td>-22.552</td>\n",
              "      <td>1</td>\n",
              "      <td>0.9600</td>\n",
              "      <td>0.539</td>\n",
              "      <td>0.000000</td>\n",
              "      <td>0.6330</td>\n",
              "      <td>0.6440</td>\n",
              "      <td>83.532</td>\n",
              "      <td>4</td>\n",
              "    </tr>\n",
              "  </tbody>\n",
              "</table>\n",
              "</div>"
            ],
            "text/plain": [
              "                        id  ... time_signature\n",
              "0   35iwgR4jXetI318WEWsa1Q  ...              3\n",
              "1   021ht4sdgPcrDgSk7JTbKY  ...              1\n",
              "2   07A5yehtSnoedViJAZkNnc  ...              5\n",
              "3   08FmqUhxtyLTn6pAh6bk45  ...              3\n",
              "4   08y9GfoqCWfOGsKdwojr5e  ...              4\n",
              "5   0BRXJHRNGQ3W4v9frnSfhu  ...              4\n",
              "6   0Dd9ImXtAtGwsmsAD69KZT  ...              5\n",
              "7   0IA0Hju8CAgYfV1hwhidBH  ...              3\n",
              "8   0IgI1UCz84pYeVetnl1lGP  ...              4\n",
              "9   0JV4iqw2lSKJaHBQZ0e5zK  ...              3\n",
              "10  0OYGe21oScKJfanLyM7daU  ...              3\n",
              "11  0PE42H6tslQuyMMiGRiqtb  ...              3\n",
              "12  0PH9AACae1f957JAavhOl2  ...              4\n",
              "13  0QiT0Oo5QdLXdFw6RDOj7h  ...              4\n",
              "14  0TWsNj5iSvbMTtbEDP7A4V  ...              4\n",
              "15  0cC9CYjLRIzwchQ42xVnq6  ...              1\n",
              "16  0eb1PfHxT6HnXvvdUOzmME  ...              3\n",
              "17  0grXU6GKVNCVMJbseA0Uhe  ...              1\n",
              "18  0kCB1bDVBC8gWCFcnJyIZc  ...              4\n",
              "19  0l3BQsVJ7F76wlN5QhJzaP  ...              4\n",
              "20  0pXUGQcBxfoQXg2e7G9Wwk  ...              3\n",
              "21  0wA4YFw7ZNnpasfjVgJxpv  ...              3\n",
              "22  0xJCJ9XSNcdTIz0QKmhtEn  ...              3\n",
              "23  0zyKYuXwmo8eR3BBxoxVEO  ...              1\n",
              "24  10XXG7gG75jIREUaModzOY  ...              4\n",
              "\n",
              "[25 rows x 20 columns]"
            ]
          },
          "metadata": {
            "tags": []
          },
          "execution_count": 54
        }
      ]
    },
    {
      "cell_type": "code",
      "metadata": {
        "colab": {
          "base_uri": "https://localhost:8080/",
          "height": 1000
        },
        "id": "BBEToGEVIkum",
        "outputId": "bed68b11-48be-48c5-8c27-5fe232d05505"
      },
      "source": [
        "tracks.hist(figsize=(20, 20))\n",
        "plt.show()"
      ],
      "execution_count": 55,
      "outputs": [
        {
          "output_type": "display_data",
          "data": {
            "image/png": "[encoded data removed]",
            "text/plain": [
              "<Figure size 1440x1440 with 16 Axes>"
            ]
          },
          "metadata": {
            "tags": [],
            "needs_background": "light"
          }
        }
      ]
    },
    {
      "cell_type": "code",
      "metadata": {
        "colab": {
          "base_uri": "https://localhost:8080/"
        },
        "id": "ri6--Ebg0FaF",
        "outputId": "1624a482-e245-4b74-b741-98f1eb2e4b99"
      },
      "source": [
        "data_report(tracks, figures=False)"
      ],
      "execution_count": 86,
      "outputs": [
        {
          "output_type": "stream",
          "text": [
            "id\n",
            "\n",
            "Type:\tString\n",
            "Values:\n",
            "['35iwgR4jXetI318WEWsa1Q' '021ht4sdgPcrDgSk7JTbKY'\n",
            " '07A5yehtSnoedViJAZkNnc' ... '27Y1N4Q4U3EfDU5Ubw8ws2'\n",
            " '45XJsGpFTyzbzeWK8VzR8S' '5Ocn6dZ3BJFPWh4ylwFXtn']\n",
            "NAs:\t0\n",
            "\n",
            "_____________________\n",
            "\n",
            "name\n",
            "\n",
            "Type:\tString\n",
            "Values:\n",
            "['Carve' 'Capítulo 2.16 - Banquero Anarquista'\n",
            " 'Vivo para Quererte - Remasterizado' ... 'blind'\n",
            " \"What They'll Say About Us\" 'A Day At A Time']\n",
            "NAs:\t71\n",
            "\n",
            "_____________________\n",
            "\n",
            "popularity\n",
            "\n",
            "Type:\tNumeric\n",
            "Range:\t0 - 100\n",
            "NAs:\t0\n",
            "\n",
            "_____________________\n",
            "\n",
            "duration_ms\n",
            "\n",
            "Type:\tNumeric\n",
            "Range:\t3344 - 5621218\n",
            "NAs:\t0\n",
            "\n",
            "_____________________\n",
            "\n",
            "explicit\n",
            "\n",
            "Type:\tNumeric\n",
            "Range:\t0 - 1\n",
            "NAs:\t0\n",
            "\n",
            "_____________________\n",
            "\n",
            "artists\n",
            "\n",
            "Type:\tString\n",
            "Values:\n",
            "[\"['Uli']\" \"['Fernando Pessoa']\" \"['Ignacio Corsini']\" ... \"['阿YueYue']\"\n",
            " \"['ROLE MODEL']\" \"['Gentle Bones', 'Clara Benin']\"]\n",
            "NAs:\t0\n",
            "\n",
            "_____________________\n",
            "\n",
            "id_artists\n",
            "\n",
            "Type:\tString\n",
            "Values:\n",
            "[\"['45tIt06XoI0Iio4LBEVpls']\" \"['14jtPCOoNZwquk5wd9DxrY']\"\n",
            " \"['5LiOoJbxVSAMkBS2fUm3X2']\" ... \"['1QLBXKM5GCpyQQSVMNZqrZ']\"\n",
            " \"['1dy5WNgIKQU6ezkpZs4y8z']\"\n",
            " \"['4jGPdu95icCKVF31CcFKbS', '5ebPSE9YI5aLeZ1Z2gkqjn']\"]\n",
            "NAs:\t0\n",
            "\n",
            "_____________________\n",
            "\n",
            "release_date\n",
            "\n",
            "Type:\tString\n",
            "Values:\n",
            "['1922-02-22' '1922-06-01' '1922-03-21' ... '1991-05' '1996-10-06'\n",
            " '2009-11-28']\n",
            "NAs:\t0\n",
            "\n",
            "_____________________\n",
            "\n",
            "danceability\n",
            "\n",
            "Type:\tNumeric\n",
            "Range:\t0.0 - 0.991\n",
            "NAs:\t0\n",
            "\n",
            "_____________________\n",
            "\n",
            "energy\n",
            "\n",
            "Type:\tNumeric\n",
            "Range:\t0.0 - 1.0\n",
            "NAs:\t0\n",
            "\n",
            "_____________________\n",
            "\n",
            "key\n",
            "\n",
            "Type:\tNumeric\n",
            "Range:\t0 - 11\n",
            "NAs:\t0\n",
            "\n",
            "_____________________\n",
            "\n",
            "loudness\n",
            "\n",
            "Type:\tNumeric\n",
            "Range:\t-60.0 - 5.376\n",
            "NAs:\t0\n",
            "\n",
            "_____________________\n",
            "\n",
            "mode\n",
            "\n",
            "Type:\tNumeric\n",
            "Range:\t0 - 1\n",
            "NAs:\t0\n",
            "\n",
            "_____________________\n",
            "\n",
            "speechiness\n",
            "\n",
            "Type:\tNumeric\n",
            "Range:\t0.0 - 0.971\n",
            "NAs:\t0\n",
            "\n",
            "_____________________\n",
            "\n",
            "acousticness\n",
            "\n",
            "Type:\tNumeric\n",
            "Range:\t0.0 - 0.996\n",
            "NAs:\t0\n",
            "\n",
            "_____________________\n",
            "\n",
            "instrumentalness\n",
            "\n",
            "Type:\tNumeric\n",
            "Range:\t0.0 - 1.0\n",
            "NAs:\t0\n",
            "\n",
            "_____________________\n",
            "\n",
            "liveness\n",
            "\n",
            "Type:\tNumeric\n",
            "Range:\t0.0 - 1.0\n",
            "NAs:\t0\n",
            "\n",
            "_____________________\n",
            "\n",
            "valence\n",
            "\n",
            "Type:\tNumeric\n",
            "Range:\t0.0 - 1.0\n",
            "NAs:\t0\n",
            "\n",
            "_____________________\n",
            "\n",
            "tempo\n",
            "\n",
            "Type:\tNumeric\n",
            "Range:\t0.0 - 246.38099999999997\n",
            "NAs:\t0\n",
            "\n",
            "_____________________\n",
            "\n",
            "time_signature\n",
            "\n",
            "Type:\tNumeric\n",
            "Range:\t0 - 5\n",
            "NAs:\t0\n",
            "\n",
            "_____________________\n",
            "\n"
          ],
          "name": "stdout"
        }
      ]
    },
    {
      "cell_type": "markdown",
      "metadata": {
        "id": "b5Dniksds4Af"
      },
      "source": [
        "**Related Artists**"
      ]
    },
    {
      "cell_type": "code",
      "metadata": {
        "id": "tlPYHxYVtKA2"
      },
      "source": [
        "#related_artists.head(25)\n",
        "#print(data.keys())"
      ],
      "execution_count": 57,
      "outputs": []
    },
    {
      "cell_type": "markdown",
      "metadata": {
        "id": "E1aNpRgssvbu"
      },
      "source": [
        ""
      ]
    },
    {
      "cell_type": "markdown",
      "metadata": {
        "id": "zgRG9pivmnyD"
      },
      "source": [
        "# Variable Assessment"
      ]
    },
    {
      "cell_type": "code",
      "metadata": {
        "id": "cB1TLASP3xzf"
      },
      "source": [
        "col = \"name\"\n",
        "\n",
        "#na_idx = tracks.index[tracks[col].isna()]\n",
        "\n",
        "tracks[col].isna()\n",
        "\n",
        "#print(tracks.iloc[na_idx])"
      ],
      "execution_count": null,
      "outputs": []
    },
    {
      "cell_type": "markdown",
      "metadata": {
        "id": "5LXvsSUY-SI_"
      },
      "source": [
        "**release_date**\n",
        "\n",
        "Note: Should convert it to year and month variables"
      ]
    },
    {
      "cell_type": "code",
      "metadata": {
        "id": "Ttmk_aUx-RVH"
      },
      "source": [
        "release_date"
      ],
      "execution_count": null,
      "outputs": []
    },
    {
      "cell_type": "markdown",
      "metadata": {
        "id": "RzWjnVw4mpzB"
      },
      "source": [
        "# Pre-Processing"
      ]
    },
    {
      "cell_type": "markdown",
      "metadata": {
        "id": "KfAJ7onH5CVX"
      },
      "source": [
        "**Track Names**"
      ]
    },
    {
      "cell_type": "code",
      "metadata": {
        "id": "BHTNvLE53Xkx"
      },
      "source": [
        "tracks[\"name\"] = tracks[\"name\"].fillna(\"\")"
      ],
      "execution_count": 87,
      "outputs": []
    },
    {
      "cell_type": "markdown",
      "metadata": {
        "id": "6d-1ulPN6EVM"
      },
      "source": [
        "**Artist Followers**"
      ]
    },
    {
      "cell_type": "code",
      "metadata": {
        "id": "en3rMtzU5B_U"
      },
      "source": [
        "artists[\"followers\"] = artists[\"followers\"].fillna(0)"
      ],
      "execution_count": 88,
      "outputs": []
    },
    {
      "cell_type": "markdown",
      "metadata": {
        "id": "JlAkFnM-E8Ft"
      },
      "source": [
        "**Artist & ID_Artist**\n",
        "\n",
        "Converts string values to list values"
      ]
    },
    {
      "cell_type": "code",
      "metadata": {
        "id": "uibhB-iWFGR_"
      },
      "source": [
        "tracks[\"artists\"] = tracks[\"artists\"].apply(literal_eval)\n",
        "tracks[\"id_artists\"] = tracks[\"id_artists\"].apply(literal_eval)"
      ],
      "execution_count": 89,
      "outputs": []
    },
    {
      "cell_type": "markdown",
      "metadata": {
        "id": "h_EkEWGpBdmh"
      },
      "source": [
        "**Number Of Artists**\n",
        "\n",
        "Creates a variable for the number of artists on a track"
      ]
    },
    {
      "cell_type": "code",
      "metadata": {
        "id": "t_JS7j3TBjO-",
        "colab": {
          "base_uri": "https://localhost:8080/"
        },
        "outputId": "b9de0208-be71-4e7e-d5c4-9ce0d5b25f00"
      },
      "source": [
        "#Counts Number Of Artists\n",
        "tracks[\"num_artists\"] = [len(x) for x in tracks[\"artists\"]]\n",
        "\n",
        "#Sets Maximum Number Of Counted Artists To 6\n",
        "#Note: Ignore if error is thrown\n",
        "tracks[\"num_artists_bin\"] = tracks['num_artists'].copy(deep=True)\n",
        "tracks[\"num_artists_bin\"].loc[tracks[\"num_artists\"] > 6] = 6"
      ],
      "execution_count": 90,
      "outputs": [
        {
          "output_type": "stream",
          "text": [
            "/usr/local/lib/python3.7/dist-packages/pandas/core/indexing.py:670: SettingWithCopyWarning: \n",
            "A value is trying to be set on a copy of a slice from a DataFrame\n",
            "\n",
            "See the caveats in the documentation: https://pandas.pydata.org/pandas-docs/stable/user_guide/indexing.html#returning-a-view-versus-a-copy\n",
            "  iloc._setitem_with_indexer(indexer, value)\n"
          ],
          "name": "stderr"
        }
      ]
    },
    {
      "cell_type": "markdown",
      "metadata": {
        "id": "WqcL6Tp3eWJh"
      },
      "source": [
        "**Release Date**\n",
        "\n",
        "Extracts various elements from the release date and builds several new categories. If no date or month is present, a NaN value reported for all day and month related variables."
      ]
    },
    {
      "cell_type": "code",
      "metadata": {
        "id": "B66FoSk9eTp9",
        "colab": {
          "base_uri": "https://localhost:8080/"
        },
        "outputId": "eb6036db-343d-4b10-812c-e428db1f1d55"
      },
      "source": [
        "#Fixes \"Los Pincheira del Sur\", Which Incorrectly Has A Stated Release Date Of January 1st 1900\n",
        "tracks[\"release_date\"].iloc[478627] = \"2019-5-17\"\n",
        "\n",
        "#Converts String Date To Datetime\n",
        "tracks[\"release_date_time\"] = tracks[\"release_date\"].copy(deep=True)\n",
        "tracks[\"release_date_time\"] = pd.to_datetime(tracks[\"release_date_time\"])\n",
        "\n",
        "#Creates Categories Of Interest\n",
        "tracks[\"release_year\"] = tracks[\"release_date_time\"].dt.year\n",
        "tracks[\"release_decade\"] = tracks[\"release_date_time\"].dt.year//10*10\n",
        "tracks[\"release_month\"] = tracks[\"release_date_time\"].dt.month_name()\n",
        "tracks[\"release_dayofweek\"] = tracks[\"release_date_time\"].dt.day_name()\n",
        "tracks[\"release_quarter\"] = tracks[\"release_date_time\"].dt.quarter\n",
        "tracks[\"release_endofmonth\"] = tracks[\"release_date_time\"].dt.is_month_end\n",
        "\n",
        "#Identifies Elements That Lack Day & Month Data\n",
        "date_time_gaps = ~tracks[\"release_date\"].str.contains(\"-\")\n",
        "\n",
        "#Sets Appropriate Row Elements To NaN\n",
        "tracks[\"release_month\"].loc[date_time_gaps] = np.nan\n",
        "tracks[\"release_decade\"].loc[date_time_gaps] = np.nan\n",
        "tracks[\"release_dayofweek\"].loc[date_time_gaps] = np.nan\n",
        "tracks[\"release_quarter\"].loc[date_time_gaps] = np.nan\n",
        "tracks[\"release_endofmonth\"].loc[date_time_gaps] = np.nan"
      ],
      "execution_count": 91,
      "outputs": [
        {
          "output_type": "stream",
          "text": [
            "/usr/local/lib/python3.7/dist-packages/pandas/core/indexing.py:670: SettingWithCopyWarning: \n",
            "A value is trying to be set on a copy of a slice from a DataFrame\n",
            "\n",
            "See the caveats in the documentation: https://pandas.pydata.org/pandas-docs/stable/user_guide/indexing.html#returning-a-view-versus-a-copy\n",
            "  iloc._setitem_with_indexer(indexer, value)\n"
          ],
          "name": "stderr"
        }
      ]
    },
    {
      "cell_type": "markdown",
      "metadata": {
        "id": "99ZHWHDF3HM5"
      },
      "source": [
        "**Final Data Shape**"
      ]
    },
    {
      "cell_type": "code",
      "metadata": {
        "colab": {
          "base_uri": "https://localhost:8080/",
          "height": 557
        },
        "id": "cNTrw2i53F-L",
        "outputId": "df1b3b39-1fcf-4eaa-d5b3-51a1eb794605"
      },
      "source": [
        "tracks.head(10)"
      ],
      "execution_count": 92,
      "outputs": [
        {
          "output_type": "execute_result",
          "data": {
            "text/html": [
              "<div>\n",
              "<style scoped>\n",
              "    .dataframe tbody tr th:only-of-type {\n",
              "        vertical-align: middle;\n",
              "    }\n",
              "\n",
              "    .dataframe tbody tr th {\n",
              "        vertical-align: top;\n",
              "    }\n",
              "\n",
              "    .dataframe thead th {\n",
              "        text-align: right;\n",
              "    }\n",
              "</style>\n",
              "<table border=\"1\" class=\"dataframe\">\n",
              "  <thead>\n",
              "    <tr style=\"text-align: right;\">\n",
              "      <th></th>\n",
              "      <th>id</th>\n",
              "      <th>name</th>\n",
              "      <th>popularity</th>\n",
              "      <th>duration_ms</th>\n",
              "      <th>explicit</th>\n",
              "      <th>artists</th>\n",
              "      <th>id_artists</th>\n",
              "      <th>release_date</th>\n",
              "      <th>danceability</th>\n",
              "      <th>energy</th>\n",
              "      <th>key</th>\n",
              "      <th>loudness</th>\n",
              "      <th>mode</th>\n",
              "      <th>speechiness</th>\n",
              "      <th>acousticness</th>\n",
              "      <th>instrumentalness</th>\n",
              "      <th>liveness</th>\n",
              "      <th>valence</th>\n",
              "      <th>tempo</th>\n",
              "      <th>time_signature</th>\n",
              "      <th>num_artists</th>\n",
              "      <th>num_artists_bin</th>\n",
              "      <th>release_date_time</th>\n",
              "      <th>release_year</th>\n",
              "      <th>release_decade</th>\n",
              "      <th>release_month</th>\n",
              "      <th>release_dayofweek</th>\n",
              "      <th>release_quarter</th>\n",
              "      <th>release_endofmonth</th>\n",
              "    </tr>\n",
              "  </thead>\n",
              "  <tbody>\n",
              "    <tr>\n",
              "      <th>0</th>\n",
              "      <td>35iwgR4jXetI318WEWsa1Q</td>\n",
              "      <td>Carve</td>\n",
              "      <td>6</td>\n",
              "      <td>126903</td>\n",
              "      <td>0</td>\n",
              "      <td>[Uli]</td>\n",
              "      <td>[45tIt06XoI0Iio4LBEVpls]</td>\n",
              "      <td>1922-02-22</td>\n",
              "      <td>0.645</td>\n",
              "      <td>0.4450</td>\n",
              "      <td>0</td>\n",
              "      <td>-13.338</td>\n",
              "      <td>1</td>\n",
              "      <td>0.4510</td>\n",
              "      <td>0.674</td>\n",
              "      <td>0.744000</td>\n",
              "      <td>0.1510</td>\n",
              "      <td>0.1270</td>\n",
              "      <td>104.851</td>\n",
              "      <td>3</td>\n",
              "      <td>1</td>\n",
              "      <td>1</td>\n",
              "      <td>1922-02-22</td>\n",
              "      <td>1922</td>\n",
              "      <td>1920.0</td>\n",
              "      <td>February</td>\n",
              "      <td>Wednesday</td>\n",
              "      <td>1.0</td>\n",
              "      <td>0.0</td>\n",
              "    </tr>\n",
              "    <tr>\n",
              "      <th>1</th>\n",
              "      <td>021ht4sdgPcrDgSk7JTbKY</td>\n",
              "      <td>Capítulo 2.16 - Banquero Anarquista</td>\n",
              "      <td>0</td>\n",
              "      <td>98200</td>\n",
              "      <td>0</td>\n",
              "      <td>[Fernando Pessoa]</td>\n",
              "      <td>[14jtPCOoNZwquk5wd9DxrY]</td>\n",
              "      <td>1922-06-01</td>\n",
              "      <td>0.695</td>\n",
              "      <td>0.2630</td>\n",
              "      <td>0</td>\n",
              "      <td>-22.136</td>\n",
              "      <td>1</td>\n",
              "      <td>0.9570</td>\n",
              "      <td>0.797</td>\n",
              "      <td>0.000000</td>\n",
              "      <td>0.1480</td>\n",
              "      <td>0.6550</td>\n",
              "      <td>102.009</td>\n",
              "      <td>1</td>\n",
              "      <td>1</td>\n",
              "      <td>1</td>\n",
              "      <td>1922-06-01</td>\n",
              "      <td>1922</td>\n",
              "      <td>1920.0</td>\n",
              "      <td>June</td>\n",
              "      <td>Thursday</td>\n",
              "      <td>2.0</td>\n",
              "      <td>0.0</td>\n",
              "    </tr>\n",
              "    <tr>\n",
              "      <th>2</th>\n",
              "      <td>07A5yehtSnoedViJAZkNnc</td>\n",
              "      <td>Vivo para Quererte - Remasterizado</td>\n",
              "      <td>0</td>\n",
              "      <td>181640</td>\n",
              "      <td>0</td>\n",
              "      <td>[Ignacio Corsini]</td>\n",
              "      <td>[5LiOoJbxVSAMkBS2fUm3X2]</td>\n",
              "      <td>1922-03-21</td>\n",
              "      <td>0.434</td>\n",
              "      <td>0.1770</td>\n",
              "      <td>1</td>\n",
              "      <td>-21.180</td>\n",
              "      <td>1</td>\n",
              "      <td>0.0512</td>\n",
              "      <td>0.994</td>\n",
              "      <td>0.021800</td>\n",
              "      <td>0.2120</td>\n",
              "      <td>0.4570</td>\n",
              "      <td>130.418</td>\n",
              "      <td>5</td>\n",
              "      <td>1</td>\n",
              "      <td>1</td>\n",
              "      <td>1922-03-21</td>\n",
              "      <td>1922</td>\n",
              "      <td>1920.0</td>\n",
              "      <td>March</td>\n",
              "      <td>Tuesday</td>\n",
              "      <td>1.0</td>\n",
              "      <td>0.0</td>\n",
              "    </tr>\n",
              "    <tr>\n",
              "      <th>3</th>\n",
              "      <td>08FmqUhxtyLTn6pAh6bk45</td>\n",
              "      <td>El Prisionero - Remasterizado</td>\n",
              "      <td>0</td>\n",
              "      <td>176907</td>\n",
              "      <td>0</td>\n",
              "      <td>[Ignacio Corsini]</td>\n",
              "      <td>[5LiOoJbxVSAMkBS2fUm3X2]</td>\n",
              "      <td>1922-03-21</td>\n",
              "      <td>0.321</td>\n",
              "      <td>0.0946</td>\n",
              "      <td>7</td>\n",
              "      <td>-27.961</td>\n",
              "      <td>1</td>\n",
              "      <td>0.0504</td>\n",
              "      <td>0.995</td>\n",
              "      <td>0.918000</td>\n",
              "      <td>0.1040</td>\n",
              "      <td>0.3970</td>\n",
              "      <td>169.980</td>\n",
              "      <td>3</td>\n",
              "      <td>1</td>\n",
              "      <td>1</td>\n",
              "      <td>1922-03-21</td>\n",
              "      <td>1922</td>\n",
              "      <td>1920.0</td>\n",
              "      <td>March</td>\n",
              "      <td>Tuesday</td>\n",
              "      <td>1.0</td>\n",
              "      <td>0.0</td>\n",
              "    </tr>\n",
              "    <tr>\n",
              "      <th>4</th>\n",
              "      <td>08y9GfoqCWfOGsKdwojr5e</td>\n",
              "      <td>Lady of the Evening</td>\n",
              "      <td>0</td>\n",
              "      <td>163080</td>\n",
              "      <td>0</td>\n",
              "      <td>[Dick Haymes]</td>\n",
              "      <td>[3BiJGZsyX9sJchTqcSA7Su]</td>\n",
              "      <td>1922</td>\n",
              "      <td>0.402</td>\n",
              "      <td>0.1580</td>\n",
              "      <td>3</td>\n",
              "      <td>-16.900</td>\n",
              "      <td>0</td>\n",
              "      <td>0.0390</td>\n",
              "      <td>0.989</td>\n",
              "      <td>0.130000</td>\n",
              "      <td>0.3110</td>\n",
              "      <td>0.1960</td>\n",
              "      <td>103.220</td>\n",
              "      <td>4</td>\n",
              "      <td>1</td>\n",
              "      <td>1</td>\n",
              "      <td>1922-01-01</td>\n",
              "      <td>1922</td>\n",
              "      <td>NaN</td>\n",
              "      <td>NaN</td>\n",
              "      <td>NaN</td>\n",
              "      <td>NaN</td>\n",
              "      <td>NaN</td>\n",
              "    </tr>\n",
              "    <tr>\n",
              "      <th>5</th>\n",
              "      <td>0BRXJHRNGQ3W4v9frnSfhu</td>\n",
              "      <td>Ave Maria</td>\n",
              "      <td>0</td>\n",
              "      <td>178933</td>\n",
              "      <td>0</td>\n",
              "      <td>[Dick Haymes]</td>\n",
              "      <td>[3BiJGZsyX9sJchTqcSA7Su]</td>\n",
              "      <td>1922</td>\n",
              "      <td>0.227</td>\n",
              "      <td>0.2610</td>\n",
              "      <td>5</td>\n",
              "      <td>-12.343</td>\n",
              "      <td>1</td>\n",
              "      <td>0.0382</td>\n",
              "      <td>0.994</td>\n",
              "      <td>0.247000</td>\n",
              "      <td>0.0977</td>\n",
              "      <td>0.0539</td>\n",
              "      <td>118.891</td>\n",
              "      <td>4</td>\n",
              "      <td>1</td>\n",
              "      <td>1</td>\n",
              "      <td>1922-01-01</td>\n",
              "      <td>1922</td>\n",
              "      <td>NaN</td>\n",
              "      <td>NaN</td>\n",
              "      <td>NaN</td>\n",
              "      <td>NaN</td>\n",
              "      <td>NaN</td>\n",
              "    </tr>\n",
              "    <tr>\n",
              "      <th>6</th>\n",
              "      <td>0Dd9ImXtAtGwsmsAD69KZT</td>\n",
              "      <td>La Butte Rouge</td>\n",
              "      <td>0</td>\n",
              "      <td>134467</td>\n",
              "      <td>0</td>\n",
              "      <td>[Francis Marty]</td>\n",
              "      <td>[2nuMRGzeJ5jJEKlfS7rZ0W]</td>\n",
              "      <td>1922</td>\n",
              "      <td>0.510</td>\n",
              "      <td>0.3550</td>\n",
              "      <td>4</td>\n",
              "      <td>-12.833</td>\n",
              "      <td>1</td>\n",
              "      <td>0.1240</td>\n",
              "      <td>0.965</td>\n",
              "      <td>0.000000</td>\n",
              "      <td>0.1550</td>\n",
              "      <td>0.7270</td>\n",
              "      <td>85.754</td>\n",
              "      <td>5</td>\n",
              "      <td>1</td>\n",
              "      <td>1</td>\n",
              "      <td>1922-01-01</td>\n",
              "      <td>1922</td>\n",
              "      <td>NaN</td>\n",
              "      <td>NaN</td>\n",
              "      <td>NaN</td>\n",
              "      <td>NaN</td>\n",
              "      <td>NaN</td>\n",
              "    </tr>\n",
              "    <tr>\n",
              "      <th>7</th>\n",
              "      <td>0IA0Hju8CAgYfV1hwhidBH</td>\n",
              "      <td>La Java</td>\n",
              "      <td>0</td>\n",
              "      <td>161427</td>\n",
              "      <td>0</td>\n",
              "      <td>[Mistinguett]</td>\n",
              "      <td>[4AxgXfD7ISvJSTObqm4aIE]</td>\n",
              "      <td>1922</td>\n",
              "      <td>0.563</td>\n",
              "      <td>0.1840</td>\n",
              "      <td>4</td>\n",
              "      <td>-13.757</td>\n",
              "      <td>1</td>\n",
              "      <td>0.0512</td>\n",
              "      <td>0.993</td>\n",
              "      <td>0.000016</td>\n",
              "      <td>0.3250</td>\n",
              "      <td>0.6540</td>\n",
              "      <td>133.088</td>\n",
              "      <td>3</td>\n",
              "      <td>1</td>\n",
              "      <td>1</td>\n",
              "      <td>1922-01-01</td>\n",
              "      <td>1922</td>\n",
              "      <td>NaN</td>\n",
              "      <td>NaN</td>\n",
              "      <td>NaN</td>\n",
              "      <td>NaN</td>\n",
              "      <td>NaN</td>\n",
              "    </tr>\n",
              "    <tr>\n",
              "      <th>8</th>\n",
              "      <td>0IgI1UCz84pYeVetnl1lGP</td>\n",
              "      <td>Old Fashioned Girl</td>\n",
              "      <td>0</td>\n",
              "      <td>310073</td>\n",
              "      <td>0</td>\n",
              "      <td>[Greg Fieler]</td>\n",
              "      <td>[5nWlsH5RDgFuRAiDeOFVmf]</td>\n",
              "      <td>1922</td>\n",
              "      <td>0.488</td>\n",
              "      <td>0.4750</td>\n",
              "      <td>0</td>\n",
              "      <td>-16.222</td>\n",
              "      <td>0</td>\n",
              "      <td>0.0399</td>\n",
              "      <td>0.620</td>\n",
              "      <td>0.006450</td>\n",
              "      <td>0.1070</td>\n",
              "      <td>0.5440</td>\n",
              "      <td>139.952</td>\n",
              "      <td>4</td>\n",
              "      <td>1</td>\n",
              "      <td>1</td>\n",
              "      <td>1922-01-01</td>\n",
              "      <td>1922</td>\n",
              "      <td>NaN</td>\n",
              "      <td>NaN</td>\n",
              "      <td>NaN</td>\n",
              "      <td>NaN</td>\n",
              "      <td>NaN</td>\n",
              "    </tr>\n",
              "    <tr>\n",
              "      <th>9</th>\n",
              "      <td>0JV4iqw2lSKJaHBQZ0e5zK</td>\n",
              "      <td>Martín Fierro - Remasterizado</td>\n",
              "      <td>0</td>\n",
              "      <td>181173</td>\n",
              "      <td>0</td>\n",
              "      <td>[Ignacio Corsini]</td>\n",
              "      <td>[5LiOoJbxVSAMkBS2fUm3X2]</td>\n",
              "      <td>1922-03-29</td>\n",
              "      <td>0.548</td>\n",
              "      <td>0.0391</td>\n",
              "      <td>6</td>\n",
              "      <td>-23.228</td>\n",
              "      <td>1</td>\n",
              "      <td>0.1530</td>\n",
              "      <td>0.996</td>\n",
              "      <td>0.933000</td>\n",
              "      <td>0.1480</td>\n",
              "      <td>0.6120</td>\n",
              "      <td>75.595</td>\n",
              "      <td>3</td>\n",
              "      <td>1</td>\n",
              "      <td>1</td>\n",
              "      <td>1922-03-29</td>\n",
              "      <td>1922</td>\n",
              "      <td>1920.0</td>\n",
              "      <td>March</td>\n",
              "      <td>Wednesday</td>\n",
              "      <td>1.0</td>\n",
              "      <td>0.0</td>\n",
              "    </tr>\n",
              "  </tbody>\n",
              "</table>\n",
              "</div>"
            ],
            "text/plain": [
              "                       id  ... release_endofmonth\n",
              "0  35iwgR4jXetI318WEWsa1Q  ...                0.0\n",
              "1  021ht4sdgPcrDgSk7JTbKY  ...                0.0\n",
              "2  07A5yehtSnoedViJAZkNnc  ...                0.0\n",
              "3  08FmqUhxtyLTn6pAh6bk45  ...                0.0\n",
              "4  08y9GfoqCWfOGsKdwojr5e  ...                NaN\n",
              "5  0BRXJHRNGQ3W4v9frnSfhu  ...                NaN\n",
              "6  0Dd9ImXtAtGwsmsAD69KZT  ...                NaN\n",
              "7  0IA0Hju8CAgYfV1hwhidBH  ...                NaN\n",
              "8  0IgI1UCz84pYeVetnl1lGP  ...                NaN\n",
              "9  0JV4iqw2lSKJaHBQZ0e5zK  ...                0.0\n",
              "\n",
              "[10 rows x 29 columns]"
            ]
          },
          "metadata": {
            "tags": []
          },
          "execution_count": 92
        }
      ]
    },
    {
      "cell_type": "markdown",
      "metadata": {
        "id": "yS_JI-4ez6xq"
      },
      "source": [
        "# Release Date Prediction"
      ]
    },
    {
      "cell_type": "markdown",
      "metadata": {
        "id": "pTkDOv-Jz4De"
      },
      "source": [
        "Known Vs Unknown Identification"
      ]
    },
    {
      "cell_type": "code",
      "metadata": {
        "id": "wZrvC0Uo4zy-"
      },
      "source": [
        "#Identifies Elements That Have Day & Month Data\n",
        "date_time_known = tracks[\"release_date\"].str.contains(\"-\")\n",
        "\n",
        "#Identifies Elements That Lack Day & Month Data\n",
        "date_time_gaps = ~tracks[\"release_date\"].str.contains(\"-\")"
      ],
      "execution_count": 93,
      "outputs": []
    },
    {
      "cell_type": "markdown",
      "metadata": {
        "id": "AGeXGfWL6dKD"
      },
      "source": [
        "## Build Input Variables"
      ]
    },
    {
      "cell_type": "code",
      "metadata": {
        "id": "n0U1SIt97ZDM",
        "colab": {
          "base_uri": "https://localhost:8080/"
        },
        "outputId": "9b8e8828-fff0-4545-d70f-5398ab1df841"
      },
      "source": [
        "categorical_cols = [\n",
        "]\n",
        "\n",
        "categorical_cols"
      ],
      "execution_count": 94,
      "outputs": [
        {
          "output_type": "execute_result",
          "data": {
            "text/plain": [
              "[]"
            ]
          },
          "metadata": {
            "tags": []
          },
          "execution_count": 94
        }
      ]
    },
    {
      "cell_type": "code",
      "metadata": {
        "id": "IxZjpSYz7cyL",
        "colab": {
          "base_uri": "https://localhost:8080/"
        },
        "outputId": "b8c30a53-26f0-471f-87bf-9751bda65898"
      },
      "source": [
        "categorical_numerical_columns = [\n",
        "  \"key\",\n",
        "  \"mode\",\n",
        "  \"time_signature\",\n",
        "  \"release_year\",\n",
        "  \"release_decade\",\n",
        "  \"explicit\",\n",
        "  \"num_artists_bin\"\n",
        "]\n",
        "categorical_numerical_columns"
      ],
      "execution_count": 95,
      "outputs": [
        {
          "output_type": "execute_result",
          "data": {
            "text/plain": [
              "['key',\n",
              " 'mode',\n",
              " 'time_signature',\n",
              " 'release_year',\n",
              " 'release_decade',\n",
              " 'explicit',\n",
              " 'num_artists_bin']"
            ]
          },
          "metadata": {
            "tags": []
          },
          "execution_count": 95
        }
      ]
    },
    {
      "cell_type": "code",
      "metadata": {
        "id": "diFTIIy58YIy",
        "colab": {
          "base_uri": "https://localhost:8080/"
        },
        "outputId": "6683d766-4214-43ba-c471-eb4eee0a8424"
      },
      "source": [
        "continuous_numerical_columns = [\n",
        "   \"loudness\",\n",
        "   \"tempo\",\n",
        "   \"popularity\",\n",
        "   \"duration_ms\"\n",
        "]\n",
        "continuous_numerical_columns"
      ],
      "execution_count": 105,
      "outputs": [
        {
          "output_type": "execute_result",
          "data": {
            "text/plain": [
              "['loudness', 'tempo', 'popularity', 'duration_ms']"
            ]
          },
          "metadata": {
            "tags": []
          },
          "execution_count": 105
        }
      ]
    },
    {
      "cell_type": "code",
      "metadata": {
        "colab": {
          "base_uri": "https://localhost:8080/"
        },
        "id": "ieIc_yQJMEnh",
        "outputId": "0ea1bffb-4620-4c69-a48c-7c19141c4491"
      },
      "source": [
        "continuous_numerical_columns_standardized = [\n",
        "   \"danceability\",\n",
        "   \"energy\",  \n",
        "   \"speechiness\",\n",
        "   \"acousticness\",\n",
        "   \"valence\",\n",
        "   \"liveness\",\n",
        "   \"instrumentalness\"                                         \n",
        "]\n",
        "continuous_numerical_columns_standardized"
      ],
      "execution_count": 97,
      "outputs": [
        {
          "output_type": "execute_result",
          "data": {
            "text/plain": [
              "['danceability',\n",
              " 'energy',\n",
              " 'speechiness',\n",
              " 'acousticness',\n",
              " 'valence',\n",
              " 'liveness',\n",
              " 'instrumentalness']"
            ]
          },
          "metadata": {
            "tags": []
          },
          "execution_count": 97
        }
      ]
    },
    {
      "cell_type": "code",
      "metadata": {
        "id": "o3YAA8DN6X7S"
      },
      "source": [
        "#name \t\n",
        "#artists"
      ],
      "execution_count": null,
      "outputs": []
    },
    {
      "cell_type": "markdown",
      "metadata": {
        "id": "pScJKthzMroC"
      },
      "source": [
        "Creates Collection Of Categories Of Interest"
      ]
    },
    {
      "cell_type": "code",
      "metadata": {
        "colab": {
          "base_uri": "https://localhost:8080/",
          "height": 226
        },
        "id": "uB07x4GbMr1J",
        "outputId": "841e787c-1183-40d4-e6f2-8da8347a925a"
      },
      "source": [
        "song_data = tracks[categorical_cols + categorical_numerical_columns + continuous_numerical_columns + continuous_numerical_columns_standardized]\n",
        "song_data.head()"
      ],
      "execution_count": 103,
      "outputs": [
        {
          "output_type": "execute_result",
          "data": {
            "text/html": [
              "<div>\n",
              "<style scoped>\n",
              "    .dataframe tbody tr th:only-of-type {\n",
              "        vertical-align: middle;\n",
              "    }\n",
              "\n",
              "    .dataframe tbody tr th {\n",
              "        vertical-align: top;\n",
              "    }\n",
              "\n",
              "    .dataframe thead th {\n",
              "        text-align: right;\n",
              "    }\n",
              "</style>\n",
              "<table border=\"1\" class=\"dataframe\">\n",
              "  <thead>\n",
              "    <tr style=\"text-align: right;\">\n",
              "      <th></th>\n",
              "      <th>key</th>\n",
              "      <th>mode</th>\n",
              "      <th>time_signature</th>\n",
              "      <th>release_year</th>\n",
              "      <th>release_decade</th>\n",
              "      <th>explicit</th>\n",
              "      <th>num_artists_bin</th>\n",
              "      <th>tempo</th>\n",
              "      <th>popularity</th>\n",
              "      <th>duration_ms</th>\n",
              "      <th>danceability</th>\n",
              "      <th>energy</th>\n",
              "      <th>speechiness</th>\n",
              "      <th>acousticness</th>\n",
              "      <th>valence</th>\n",
              "      <th>liveness</th>\n",
              "      <th>instrumentalness</th>\n",
              "    </tr>\n",
              "  </thead>\n",
              "  <tbody>\n",
              "    <tr>\n",
              "      <th>0</th>\n",
              "      <td>0</td>\n",
              "      <td>1</td>\n",
              "      <td>3</td>\n",
              "      <td>1922</td>\n",
              "      <td>1920.0</td>\n",
              "      <td>0</td>\n",
              "      <td>1</td>\n",
              "      <td>104.851</td>\n",
              "      <td>6</td>\n",
              "      <td>126903</td>\n",
              "      <td>0.645</td>\n",
              "      <td>0.4450</td>\n",
              "      <td>0.4510</td>\n",
              "      <td>0.674</td>\n",
              "      <td>0.127</td>\n",
              "      <td>0.151</td>\n",
              "      <td>0.7440</td>\n",
              "    </tr>\n",
              "    <tr>\n",
              "      <th>1</th>\n",
              "      <td>0</td>\n",
              "      <td>1</td>\n",
              "      <td>1</td>\n",
              "      <td>1922</td>\n",
              "      <td>1920.0</td>\n",
              "      <td>0</td>\n",
              "      <td>1</td>\n",
              "      <td>102.009</td>\n",
              "      <td>0</td>\n",
              "      <td>98200</td>\n",
              "      <td>0.695</td>\n",
              "      <td>0.2630</td>\n",
              "      <td>0.9570</td>\n",
              "      <td>0.797</td>\n",
              "      <td>0.655</td>\n",
              "      <td>0.148</td>\n",
              "      <td>0.0000</td>\n",
              "    </tr>\n",
              "    <tr>\n",
              "      <th>2</th>\n",
              "      <td>1</td>\n",
              "      <td>1</td>\n",
              "      <td>5</td>\n",
              "      <td>1922</td>\n",
              "      <td>1920.0</td>\n",
              "      <td>0</td>\n",
              "      <td>1</td>\n",
              "      <td>130.418</td>\n",
              "      <td>0</td>\n",
              "      <td>181640</td>\n",
              "      <td>0.434</td>\n",
              "      <td>0.1770</td>\n",
              "      <td>0.0512</td>\n",
              "      <td>0.994</td>\n",
              "      <td>0.457</td>\n",
              "      <td>0.212</td>\n",
              "      <td>0.0218</td>\n",
              "    </tr>\n",
              "    <tr>\n",
              "      <th>3</th>\n",
              "      <td>7</td>\n",
              "      <td>1</td>\n",
              "      <td>3</td>\n",
              "      <td>1922</td>\n",
              "      <td>1920.0</td>\n",
              "      <td>0</td>\n",
              "      <td>1</td>\n",
              "      <td>169.980</td>\n",
              "      <td>0</td>\n",
              "      <td>176907</td>\n",
              "      <td>0.321</td>\n",
              "      <td>0.0946</td>\n",
              "      <td>0.0504</td>\n",
              "      <td>0.995</td>\n",
              "      <td>0.397</td>\n",
              "      <td>0.104</td>\n",
              "      <td>0.9180</td>\n",
              "    </tr>\n",
              "    <tr>\n",
              "      <th>4</th>\n",
              "      <td>3</td>\n",
              "      <td>0</td>\n",
              "      <td>4</td>\n",
              "      <td>1922</td>\n",
              "      <td>NaN</td>\n",
              "      <td>0</td>\n",
              "      <td>1</td>\n",
              "      <td>103.220</td>\n",
              "      <td>0</td>\n",
              "      <td>163080</td>\n",
              "      <td>0.402</td>\n",
              "      <td>0.1580</td>\n",
              "      <td>0.0390</td>\n",
              "      <td>0.989</td>\n",
              "      <td>0.196</td>\n",
              "      <td>0.311</td>\n",
              "      <td>0.1300</td>\n",
              "    </tr>\n",
              "  </tbody>\n",
              "</table>\n",
              "</div>"
            ],
            "text/plain": [
              "   key  mode  time_signature  ...  valence  liveness  instrumentalness\n",
              "0    0     1               3  ...    0.127     0.151            0.7440\n",
              "1    0     1               1  ...    0.655     0.148            0.0000\n",
              "2    1     1               5  ...    0.457     0.212            0.0218\n",
              "3    7     1               3  ...    0.397     0.104            0.9180\n",
              "4    3     0               4  ...    0.196     0.311            0.1300\n",
              "\n",
              "[5 rows x 17 columns]"
            ]
          },
          "metadata": {
            "tags": []
          },
          "execution_count": 103
        }
      ]
    },
    {
      "cell_type": "code",
      "metadata": {
        "colab": {
          "base_uri": "https://localhost:8080/"
        },
        "id": "nKCyv4z7NStz",
        "outputId": "3b2fac07-1e86-4602-8cbf-a80bc880d050"
      },
      "source": [
        "#tracks[\"loudness\"] = abs(tracks[\"loudness\"])\n",
        "#tracks[\"loudness\"].plot.hist()\n",
        "\n",
        "tracks[\"loudness\"].apply(int)\n",
        "\n",
        "#for x in continuous_numerical_columns:\n",
        "#    tracks[x] = tracks[x].apply(literal_eval)"
      ],
      "execution_count": 110,
      "outputs": [
        {
          "output_type": "execute_result",
          "data": {
            "text/plain": [
              "0        -13\n",
              "1        -22\n",
              "2        -21\n",
              "3        -27\n",
              "4        -16\n",
              "          ..\n",
              "586667    -7\n",
              "586668    -5\n",
              "586669   -12\n",
              "586670    -6\n",
              "586671    -7\n",
              "Name: loudness, Length: 586672, dtype: int64"
            ]
          },
          "metadata": {
            "tags": []
          },
          "execution_count": 110
        }
      ]
    },
    {
      "cell_type": "markdown",
      "metadata": {
        "id": "AYg_M7DELnvK"
      },
      "source": [
        "Standardizes Continuous Numerical Ranges Using Z-Score Normalization"
      ]
    },
    {
      "cell_type": "code",
      "metadata": {
        "id": "axIbnr4ULpfy",
        "colab": {
          "base_uri": "https://localhost:8080/",
          "height": 382
        },
        "outputId": "2844fd97-757a-4351-80d7-01fab22e1779"
      },
      "source": [
        "scaler = MinMaxScaler()\n",
        "scaler.fit(song_data.iloc[continuous_numerical_columns])\n",
        "song_data.iloc[continuous_numerical_columns] = scaler.transform(song_data.iloc[continuous_numerical_columns])\n",
        "song_data.iloc[continuous_numerical_columns]"
      ],
      "execution_count": 111,
      "outputs": [
        {
          "output_type": "error",
          "ename": "ValueError",
          "evalue": "ignored",
          "traceback": [
            "\u001b[0;31m---------------------------------------------------------------------------\u001b[0m",
            "\u001b[0;31mValueError\u001b[0m                                Traceback (most recent call last)",
            "\u001b[0;32m<ipython-input-111-ea3b6bfb2838>\u001b[0m in \u001b[0;36m<module>\u001b[0;34m()\u001b[0m\n\u001b[1;32m      1\u001b[0m \u001b[0mscaler\u001b[0m \u001b[0;34m=\u001b[0m \u001b[0mMinMaxScaler\u001b[0m\u001b[0;34m(\u001b[0m\u001b[0;34m)\u001b[0m\u001b[0;34m\u001b[0m\u001b[0;34m\u001b[0m\u001b[0m\n\u001b[0;32m----> 2\u001b[0;31m \u001b[0mscaler\u001b[0m\u001b[0;34m.\u001b[0m\u001b[0mfit\u001b[0m\u001b[0;34m(\u001b[0m\u001b[0msong_data\u001b[0m\u001b[0;34m.\u001b[0m\u001b[0miloc\u001b[0m\u001b[0;34m[\u001b[0m\u001b[0mcontinuous_numerical_columns\u001b[0m\u001b[0;34m]\u001b[0m\u001b[0;34m)\u001b[0m\u001b[0;34m\u001b[0m\u001b[0;34m\u001b[0m\u001b[0m\n\u001b[0m\u001b[1;32m      3\u001b[0m \u001b[0;31m#song_data.iloc[continuous_numerical_columns] = scaler.transform(song_data.iloc[continuous_numerical_columns])\u001b[0m\u001b[0;34m\u001b[0m\u001b[0;34m\u001b[0m\u001b[0;34m\u001b[0m\u001b[0m\n\u001b[1;32m      4\u001b[0m \u001b[0;31m#song_data.iloc[continuous_numerical_columns]\u001b[0m\u001b[0;34m\u001b[0m\u001b[0;34m\u001b[0m\u001b[0;34m\u001b[0m\u001b[0m\n",
            "\u001b[0;32m/usr/local/lib/python3.7/dist-packages/pandas/core/indexing.py\u001b[0m in \u001b[0;36m__getitem__\u001b[0;34m(self, key)\u001b[0m\n\u001b[1;32m    877\u001b[0m \u001b[0;34m\u001b[0m\u001b[0m\n\u001b[1;32m    878\u001b[0m             \u001b[0mmaybe_callable\u001b[0m \u001b[0;34m=\u001b[0m \u001b[0mcom\u001b[0m\u001b[0;34m.\u001b[0m\u001b[0mapply_if_callable\u001b[0m\u001b[0;34m(\u001b[0m\u001b[0mkey\u001b[0m\u001b[0;34m,\u001b[0m \u001b[0mself\u001b[0m\u001b[0;34m.\u001b[0m\u001b[0mobj\u001b[0m\u001b[0;34m)\u001b[0m\u001b[0;34m\u001b[0m\u001b[0;34m\u001b[0m\u001b[0m\n\u001b[0;32m--> 879\u001b[0;31m             \u001b[0;32mreturn\u001b[0m \u001b[0mself\u001b[0m\u001b[0;34m.\u001b[0m\u001b[0m_getitem_axis\u001b[0m\u001b[0;34m(\u001b[0m\u001b[0mmaybe_callable\u001b[0m\u001b[0;34m,\u001b[0m \u001b[0maxis\u001b[0m\u001b[0;34m=\u001b[0m\u001b[0maxis\u001b[0m\u001b[0;34m)\u001b[0m\u001b[0;34m\u001b[0m\u001b[0;34m\u001b[0m\u001b[0m\n\u001b[0m\u001b[1;32m    880\u001b[0m \u001b[0;34m\u001b[0m\u001b[0m\n\u001b[1;32m    881\u001b[0m     \u001b[0;32mdef\u001b[0m \u001b[0m_is_scalar_access\u001b[0m\u001b[0;34m(\u001b[0m\u001b[0mself\u001b[0m\u001b[0;34m,\u001b[0m \u001b[0mkey\u001b[0m\u001b[0;34m:\u001b[0m \u001b[0mTuple\u001b[0m\u001b[0;34m)\u001b[0m\u001b[0;34m:\u001b[0m\u001b[0;34m\u001b[0m\u001b[0;34m\u001b[0m\u001b[0m\n",
            "\u001b[0;32m/usr/local/lib/python3.7/dist-packages/pandas/core/indexing.py\u001b[0m in \u001b[0;36m_getitem_axis\u001b[0;34m(self, key, axis)\u001b[0m\n\u001b[1;32m   1485\u001b[0m         \u001b[0;31m# a list of integers\u001b[0m\u001b[0;34m\u001b[0m\u001b[0;34m\u001b[0m\u001b[0;34m\u001b[0m\u001b[0m\n\u001b[1;32m   1486\u001b[0m         \u001b[0;32melif\u001b[0m \u001b[0mis_list_like_indexer\u001b[0m\u001b[0;34m(\u001b[0m\u001b[0mkey\u001b[0m\u001b[0;34m)\u001b[0m\u001b[0;34m:\u001b[0m\u001b[0;34m\u001b[0m\u001b[0;34m\u001b[0m\u001b[0m\n\u001b[0;32m-> 1487\u001b[0;31m             \u001b[0;32mreturn\u001b[0m \u001b[0mself\u001b[0m\u001b[0;34m.\u001b[0m\u001b[0m_get_list_axis\u001b[0m\u001b[0;34m(\u001b[0m\u001b[0mkey\u001b[0m\u001b[0;34m,\u001b[0m \u001b[0maxis\u001b[0m\u001b[0;34m=\u001b[0m\u001b[0maxis\u001b[0m\u001b[0;34m)\u001b[0m\u001b[0;34m\u001b[0m\u001b[0;34m\u001b[0m\u001b[0m\n\u001b[0m\u001b[1;32m   1488\u001b[0m \u001b[0;34m\u001b[0m\u001b[0m\n\u001b[1;32m   1489\u001b[0m         \u001b[0;31m# a single integer\u001b[0m\u001b[0;34m\u001b[0m\u001b[0;34m\u001b[0m\u001b[0;34m\u001b[0m\u001b[0m\n",
            "\u001b[0;32m/usr/local/lib/python3.7/dist-packages/pandas/core/indexing.py\u001b[0m in \u001b[0;36m_get_list_axis\u001b[0;34m(self, key, axis)\u001b[0m\n\u001b[1;32m   1467\u001b[0m         \"\"\"\n\u001b[1;32m   1468\u001b[0m         \u001b[0;32mtry\u001b[0m\u001b[0;34m:\u001b[0m\u001b[0;34m\u001b[0m\u001b[0;34m\u001b[0m\u001b[0m\n\u001b[0;32m-> 1469\u001b[0;31m             \u001b[0;32mreturn\u001b[0m \u001b[0mself\u001b[0m\u001b[0;34m.\u001b[0m\u001b[0mobj\u001b[0m\u001b[0;34m.\u001b[0m\u001b[0m_take_with_is_copy\u001b[0m\u001b[0;34m(\u001b[0m\u001b[0mkey\u001b[0m\u001b[0;34m,\u001b[0m \u001b[0maxis\u001b[0m\u001b[0;34m=\u001b[0m\u001b[0maxis\u001b[0m\u001b[0;34m)\u001b[0m\u001b[0;34m\u001b[0m\u001b[0;34m\u001b[0m\u001b[0m\n\u001b[0m\u001b[1;32m   1470\u001b[0m         \u001b[0;32mexcept\u001b[0m \u001b[0mIndexError\u001b[0m \u001b[0;32mas\u001b[0m \u001b[0merr\u001b[0m\u001b[0;34m:\u001b[0m\u001b[0;34m\u001b[0m\u001b[0;34m\u001b[0m\u001b[0m\n\u001b[1;32m   1471\u001b[0m             \u001b[0;31m# re-raise with different error message\u001b[0m\u001b[0;34m\u001b[0m\u001b[0;34m\u001b[0m\u001b[0;34m\u001b[0m\u001b[0m\n",
            "\u001b[0;32m/usr/local/lib/python3.7/dist-packages/pandas/core/generic.py\u001b[0m in \u001b[0;36m_take_with_is_copy\u001b[0;34m(self, indices, axis)\u001b[0m\n\u001b[1;32m   3361\u001b[0m         \u001b[0mSee\u001b[0m \u001b[0mthe\u001b[0m \u001b[0mdocstring\u001b[0m \u001b[0mof\u001b[0m\u001b[0;31m \u001b[0m\u001b[0;31m`\u001b[0m\u001b[0mtake\u001b[0m\u001b[0;31m`\u001b[0m \u001b[0;32mfor\u001b[0m \u001b[0mfull\u001b[0m \u001b[0mexplanation\u001b[0m \u001b[0mof\u001b[0m \u001b[0mthe\u001b[0m \u001b[0mparameters\u001b[0m\u001b[0;34m.\u001b[0m\u001b[0;34m\u001b[0m\u001b[0;34m\u001b[0m\u001b[0m\n\u001b[1;32m   3362\u001b[0m         \"\"\"\n\u001b[0;32m-> 3363\u001b[0;31m         \u001b[0mresult\u001b[0m \u001b[0;34m=\u001b[0m \u001b[0mself\u001b[0m\u001b[0;34m.\u001b[0m\u001b[0mtake\u001b[0m\u001b[0;34m(\u001b[0m\u001b[0mindices\u001b[0m\u001b[0;34m=\u001b[0m\u001b[0mindices\u001b[0m\u001b[0;34m,\u001b[0m \u001b[0maxis\u001b[0m\u001b[0;34m=\u001b[0m\u001b[0maxis\u001b[0m\u001b[0;34m)\u001b[0m\u001b[0;34m\u001b[0m\u001b[0;34m\u001b[0m\u001b[0m\n\u001b[0m\u001b[1;32m   3364\u001b[0m         \u001b[0;31m# Maybe set copy if we didn't actually change the index.\u001b[0m\u001b[0;34m\u001b[0m\u001b[0;34m\u001b[0m\u001b[0;34m\u001b[0m\u001b[0m\n\u001b[1;32m   3365\u001b[0m         \u001b[0;32mif\u001b[0m \u001b[0;32mnot\u001b[0m \u001b[0mresult\u001b[0m\u001b[0;34m.\u001b[0m\u001b[0m_get_axis\u001b[0m\u001b[0;34m(\u001b[0m\u001b[0maxis\u001b[0m\u001b[0;34m)\u001b[0m\u001b[0;34m.\u001b[0m\u001b[0mequals\u001b[0m\u001b[0;34m(\u001b[0m\u001b[0mself\u001b[0m\u001b[0;34m.\u001b[0m\u001b[0m_get_axis\u001b[0m\u001b[0;34m(\u001b[0m\u001b[0maxis\u001b[0m\u001b[0;34m)\u001b[0m\u001b[0;34m)\u001b[0m\u001b[0;34m:\u001b[0m\u001b[0;34m\u001b[0m\u001b[0;34m\u001b[0m\u001b[0m\n",
            "\u001b[0;32m/usr/local/lib/python3.7/dist-packages/pandas/core/generic.py\u001b[0m in \u001b[0;36mtake\u001b[0;34m(self, indices, axis, is_copy, **kwargs)\u001b[0m\n\u001b[1;32m   3349\u001b[0m \u001b[0;34m\u001b[0m\u001b[0m\n\u001b[1;32m   3350\u001b[0m         new_data = self._mgr.take(\n\u001b[0;32m-> 3351\u001b[0;31m             \u001b[0mindices\u001b[0m\u001b[0;34m,\u001b[0m \u001b[0maxis\u001b[0m\u001b[0;34m=\u001b[0m\u001b[0mself\u001b[0m\u001b[0;34m.\u001b[0m\u001b[0m_get_block_manager_axis\u001b[0m\u001b[0;34m(\u001b[0m\u001b[0maxis\u001b[0m\u001b[0;34m)\u001b[0m\u001b[0;34m,\u001b[0m \u001b[0mverify\u001b[0m\u001b[0;34m=\u001b[0m\u001b[0;32mTrue\u001b[0m\u001b[0;34m\u001b[0m\u001b[0;34m\u001b[0m\u001b[0m\n\u001b[0m\u001b[1;32m   3352\u001b[0m         )\n\u001b[1;32m   3353\u001b[0m         \u001b[0;32mreturn\u001b[0m \u001b[0mself\u001b[0m\u001b[0;34m.\u001b[0m\u001b[0m_constructor\u001b[0m\u001b[0;34m(\u001b[0m\u001b[0mnew_data\u001b[0m\u001b[0;34m)\u001b[0m\u001b[0;34m.\u001b[0m\u001b[0m__finalize__\u001b[0m\u001b[0;34m(\u001b[0m\u001b[0mself\u001b[0m\u001b[0;34m,\u001b[0m \u001b[0mmethod\u001b[0m\u001b[0;34m=\u001b[0m\u001b[0;34m\"take\"\u001b[0m\u001b[0;34m)\u001b[0m\u001b[0;34m\u001b[0m\u001b[0;34m\u001b[0m\u001b[0m\n",
            "\u001b[0;32m/usr/local/lib/python3.7/dist-packages/pandas/core/internals/managers.py\u001b[0m in \u001b[0;36mtake\u001b[0;34m(self, indexer, axis, verify, convert)\u001b[0m\n\u001b[1;32m   1442\u001b[0m             \u001b[0mnp\u001b[0m\u001b[0;34m.\u001b[0m\u001b[0marange\u001b[0m\u001b[0;34m(\u001b[0m\u001b[0mindexer\u001b[0m\u001b[0;34m.\u001b[0m\u001b[0mstart\u001b[0m\u001b[0;34m,\u001b[0m \u001b[0mindexer\u001b[0m\u001b[0;34m.\u001b[0m\u001b[0mstop\u001b[0m\u001b[0;34m,\u001b[0m \u001b[0mindexer\u001b[0m\u001b[0;34m.\u001b[0m\u001b[0mstep\u001b[0m\u001b[0;34m,\u001b[0m \u001b[0mdtype\u001b[0m\u001b[0;34m=\u001b[0m\u001b[0;34m\"int64\"\u001b[0m\u001b[0;34m)\u001b[0m\u001b[0;34m\u001b[0m\u001b[0;34m\u001b[0m\u001b[0m\n\u001b[1;32m   1443\u001b[0m             \u001b[0;32mif\u001b[0m \u001b[0misinstance\u001b[0m\u001b[0;34m(\u001b[0m\u001b[0mindexer\u001b[0m\u001b[0;34m,\u001b[0m \u001b[0mslice\u001b[0m\u001b[0;34m)\u001b[0m\u001b[0;34m\u001b[0m\u001b[0;34m\u001b[0m\u001b[0m\n\u001b[0;32m-> 1444\u001b[0;31m             \u001b[0;32melse\u001b[0m \u001b[0mnp\u001b[0m\u001b[0;34m.\u001b[0m\u001b[0masanyarray\u001b[0m\u001b[0;34m(\u001b[0m\u001b[0mindexer\u001b[0m\u001b[0;34m,\u001b[0m \u001b[0mdtype\u001b[0m\u001b[0;34m=\u001b[0m\u001b[0;34m\"int64\"\u001b[0m\u001b[0;34m)\u001b[0m\u001b[0;34m\u001b[0m\u001b[0;34m\u001b[0m\u001b[0m\n\u001b[0m\u001b[1;32m   1445\u001b[0m         )\n\u001b[1;32m   1446\u001b[0m \u001b[0;34m\u001b[0m\u001b[0m\n",
            "\u001b[0;32m/usr/local/lib/python3.7/dist-packages/numpy/core/_asarray.py\u001b[0m in \u001b[0;36masanyarray\u001b[0;34m(a, dtype, order)\u001b[0m\n\u001b[1;32m    134\u001b[0m \u001b[0;34m\u001b[0m\u001b[0m\n\u001b[1;32m    135\u001b[0m     \"\"\"\n\u001b[0;32m--> 136\u001b[0;31m     \u001b[0;32mreturn\u001b[0m \u001b[0marray\u001b[0m\u001b[0;34m(\u001b[0m\u001b[0ma\u001b[0m\u001b[0;34m,\u001b[0m \u001b[0mdtype\u001b[0m\u001b[0;34m,\u001b[0m \u001b[0mcopy\u001b[0m\u001b[0;34m=\u001b[0m\u001b[0;32mFalse\u001b[0m\u001b[0;34m,\u001b[0m \u001b[0morder\u001b[0m\u001b[0;34m=\u001b[0m\u001b[0morder\u001b[0m\u001b[0;34m,\u001b[0m \u001b[0msubok\u001b[0m\u001b[0;34m=\u001b[0m\u001b[0;32mTrue\u001b[0m\u001b[0;34m)\u001b[0m\u001b[0;34m\u001b[0m\u001b[0;34m\u001b[0m\u001b[0m\n\u001b[0m\u001b[1;32m    137\u001b[0m \u001b[0;34m\u001b[0m\u001b[0m\n\u001b[1;32m    138\u001b[0m \u001b[0;34m\u001b[0m\u001b[0m\n",
            "\u001b[0;31mValueError\u001b[0m: invalid literal for int() with base 10: 'loudness'"
          ]
        }
      ]
    },
    {
      "cell_type": "markdown",
      "metadata": {
        "id": "OSwfqzmBL_yb"
      },
      "source": [
        "Creates Dummy Variables"
      ]
    },
    {
      "cell_type": "code",
      "metadata": {
        "id": "fb6xsnNuMBQU"
      },
      "source": [
        "song_data = pd.get_dummies(data = song_data, columns=(categorical_numerical_columns + categorical_cols), drop_first=False)\n",
        "song_data"
      ],
      "execution_count": null,
      "outputs": []
    },
    {
      "cell_type": "markdown",
      "metadata": {
        "id": "XOfhYxBONHmC"
      },
      "source": [
        "Creates Final Processed Dataset"
      ]
    },
    {
      "cell_type": "code",
      "metadata": {
        "id": "g6xOxRZaNGxx"
      },
      "source": [
        "X = song_data\n",
        "X = X.reset_index()"
      ],
      "execution_count": null,
      "outputs": []
    },
    {
      "cell_type": "markdown",
      "metadata": {
        "id": "ikwpFKkX9IPP"
      },
      "source": [
        "## Month"
      ]
    },
    {
      "cell_type": "markdown",
      "metadata": {
        "id": "17IRz7jI6kB9"
      },
      "source": [
        "### Splitting Data"
      ]
    },
    {
      "cell_type": "markdown",
      "metadata": {
        "id": "jzWEwQSMMJ4f"
      },
      "source": [
        "Creates Training, Validation, And Test Sets"
      ]
    },
    {
      "cell_type": "code",
      "metadata": {
        "id": "g2zQAxtlMK8W"
      },
      "source": [
        "X_train, X_valid, y_train, y_valid = train_test_split(X, y, test_size = 0.3)\n",
        "X_valid, X_test, y_valid, y_test = train_test_split(X_valid, y_valid, test_size = 0.33)\n",
        "\n",
        "print('Train fraction: {}'.format((X_train.shape[0]) / X.shape[0]))\n",
        "print('Validation fraction: {}'.format((X_valid.shape[0]  / X.shape[0])))\n",
        "print('Test fraction: {}'.format((X_test.shape[0]  / X.shape[0])))"
      ],
      "execution_count": null,
      "outputs": []
    },
    {
      "cell_type": "markdown",
      "metadata": {
        "id": "3M2-BP6BMY7c"
      },
      "source": [
        "Training Set Snapshot"
      ]
    },
    {
      "cell_type": "code",
      "metadata": {
        "id": "jso3-9FTMeGl"
      },
      "source": [
        "X_train.head()"
      ],
      "execution_count": null,
      "outputs": []
    },
    {
      "cell_type": "markdown",
      "metadata": {
        "id": "rxiE8ayVo5SX"
      },
      "source": [
        "### Training"
      ]
    },
    {
      "cell_type": "markdown",
      "metadata": {
        "id": "kSrlkeXd7dtP"
      },
      "source": [
        "### Variable Back-Filling"
      ]
    },
    {
      "cell_type": "markdown",
      "metadata": {
        "id": "K7Q4Q0Tp9TQI"
      },
      "source": [
        "## Day"
      ]
    },
    {
      "cell_type": "markdown",
      "metadata": {
        "id": "uKHo8cG79Ze0"
      },
      "source": [
        "### Splitting Data"
      ]
    },
    {
      "cell_type": "markdown",
      "metadata": {
        "id": "SKuEkEJ196WZ"
      },
      "source": [
        "Correct Using A-Prior Information"
      ]
    },
    {
      "cell_type": "markdown",
      "metadata": {
        "id": "HGr78jEFB7oF"
      },
      "source": [
        "## Build Input Variables"
      ]
    },
    {
      "cell_type": "code",
      "metadata": {
        "id": "9N24Lyz2994T"
      },
      "source": [
        "#Idenifies Dates After 2015\n",
        "#Note: July 15th 2015 standardized and shifted the Global Release Day to Fridays\n",
        "date_time_gaps_global_release = tracks[\"release_year\"].loc[date_time_gaps] > 2015\n",
        "\n"
      ],
      "execution_count": null,
      "outputs": []
    },
    {
      "cell_type": "code",
      "metadata": {
        "id": "eO0oRXm8B1gL"
      },
      "source": [
        "#categorical_cols = [\n",
        "#   \"release_month\",\n",
        "#   \"release_dayofweek\"\n",
        "#]\n",
        "\n",
        "categorical_cols"
      ],
      "execution_count": null,
      "outputs": []
    },
    {
      "cell_type": "code",
      "metadata": {
        "id": "I4W-mwSAB1gM"
      },
      "source": [
        "categorical_numerical_columns = [\n",
        "  \"key\",\n",
        "  \"mode\",\n",
        "  \"time_signature\",\n",
        "  \"release_year\",\n",
        "  \"release_decade\",\n",
        "  \"release_quarter\",\n",
        "  \"release_endofmonth\"\n",
        "]\n",
        "categorical_numerical_columns"
      ],
      "execution_count": null,
      "outputs": []
    },
    {
      "cell_type": "code",
      "metadata": {
        "id": "EM48gzCBB1gN"
      },
      "source": [
        "continuous_numerical_columns = [\n",
        "   \"danceability\",\n",
        "   \"energy\",\n",
        "   \"loudness\",\n",
        "   \"speechiness\",\n",
        "   \"acousticness\",\n",
        "   \"tempo\",\n",
        "   \"valence\",\n",
        "   \"liveness\",\n",
        "   \"instrumentalness\"\n",
        "]\n",
        "continuous_numerical_columns"
      ],
      "execution_count": null,
      "outputs": []
    },
    {
      "cell_type": "code",
      "metadata": {
        "id": "FleuJzfhB1gR"
      },
      "source": [
        "name \t\n",
        "popularity \t\n",
        "duration_ms \t\n",
        "explicit \t\n",
        "artists"
      ],
      "execution_count": null,
      "outputs": []
    },
    {
      "cell_type": "markdown",
      "metadata": {
        "id": "1uYlYYffB1gS"
      },
      "source": [
        "Creates Collection Of Categories Of Interest"
      ]
    },
    {
      "cell_type": "code",
      "metadata": {
        "id": "wA__A3-GB1gS"
      },
      "source": [
        "song_data = tracks[categorical_cols + categorical_numerical_columns + continuous_numerical_columns + continuous_numerical_columns_standardized]\n",
        "song_data.head()"
      ],
      "execution_count": null,
      "outputs": []
    },
    {
      "cell_type": "markdown",
      "metadata": {
        "id": "UG0487vvB1gT"
      },
      "source": [
        "Standardizes Continuous Numerical Ranges Using Z-Score Normalization"
      ]
    },
    {
      "cell_type": "code",
      "metadata": {
        "id": "AcTCq0iZB1gU"
      },
      "source": [
        "scaler = MinMaxScaler()\n",
        "scaler.fit(song_data.iloc[continuous_numerical_columns])\n",
        "song_data.iloc[continuous_numerical_columns] = scaler.transform(song_data.iloc[continuous_numerical_columns])\n",
        "song_data.iloc[continuous_numerical_columns]"
      ],
      "execution_count": null,
      "outputs": []
    },
    {
      "cell_type": "markdown",
      "metadata": {
        "id": "MrENDqjVB1gW"
      },
      "source": [
        "Creates Dummy Variables"
      ]
    },
    {
      "cell_type": "code",
      "metadata": {
        "id": "jfdpJt27B1gX"
      },
      "source": [
        "song_data = pd.get_dummies(data = song_data, columns=(categorical_numerical_columns + categorical_cols), drop_first=False)\n",
        "song_data"
      ],
      "execution_count": null,
      "outputs": []
    },
    {
      "cell_type": "markdown",
      "metadata": {
        "id": "tPHfVAGXB1gX"
      },
      "source": [
        "Creates Final Processed Dataset"
      ]
    },
    {
      "cell_type": "code",
      "metadata": {
        "id": "U2iPyXj3B1gY"
      },
      "source": [
        "X = song_data\n",
        "X = X.reset_index()"
      ],
      "execution_count": null,
      "outputs": []
    }
  ]
}